{
 "cells": [
  {
   "cell_type": "code",
   "execution_count": 1,
   "id": "fd34cae6-c9d2-4361-9637-30dbff109b4f",
   "metadata": {
    "tags": []
   },
   "outputs": [],
   "source": [
    "import sqlite3\n",
    "import pandas as pd\n",
    "import numpy as np\n",
    "import xlrd\n",
    "import os\n",
    "import matplotlib.pyplot as plt\n",
    "import seaborn\n",
    "from scipy.stats import iqr"
   ]
  },
  {
   "cell_type": "markdown",
   "id": "4303ca14-c736-43d3-b116-1df1fe81b94c",
   "metadata": {},
   "source": [
    "# ETL"
   ]
  },
  {
   "cell_type": "code",
   "execution_count": 2,
   "id": "39c26946-d89e-4ded-9ec5-4c5c2c322f74",
   "metadata": {
    "tags": []
   },
   "outputs": [],
   "source": [
    "#extract data from excel file\n",
    "\n",
    "with pd.ExcelFile(r\"C:\\Users\\Ehimare\\Desktop\\data mapping\\data\\cancer datasets\\Lung_cancer_audit2.xlsx\") as file: \n",
    "    performance=file.parse('performance_status')\n",
    "    stage=file.parse('cancer_stage')\n",
    "    diagnosis=file.parse('confirmed_diagnosis')\n",
    "    mdt=file.parse('MDT_discussion')\n",
    "    treatment=file.parse('active_treatment')\n",
    "    smoking_status=file.parse('smoking_status')\n",
    "    PET=file.parse('PET_pretreatment_england')\n",
    "    egfr_recording=file.parse('EGFRrecording_England')\n",
    "    egfr_tki=file.parse('nsclc_EGFR_TKI_England')\n",
    "    surgery=file.parse('surgery')\n",
    "    radiotherapy=file.parse('radiotherapy')\n",
    "    mediansurvival=file.parse('mediansurvival')\n",
    "    "
   ]
  },
  {
   "cell_type": "code",
   "execution_count": 3,
   "id": "209ff96f-09c2-4e36-8bee-5ce38d9a13ea",
   "metadata": {},
   "outputs": [
    {
     "name": "stdout",
     "output_type": "stream",
     "text": [
      "['performance_status', 'cancer_stage', 'confirmed_diagnosis', 'MDT_discussion', 'active_treatment', 'smoking_status', 'PET_pretreatment_england', 'EGFRrecording_England', 'nsclc_EGFR_TKI_England', 'surgery', 'radiotherapy', 'mediansurvival']\n"
     ]
    }
   ],
   "source": [
    "#excel sheets/tables\n",
    "\n",
    "print(file.sheet_names)"
   ]
  },
  {
   "cell_type": "code",
   "execution_count": 4,
   "id": "44f773f4-d66c-425b-8c85-e860ed5ef417",
   "metadata": {},
   "outputs": [],
   "source": [
    "#replace * character in dataset with Nan\n",
    "\n",
    "performance.replace('*', np.nan, inplace=True)\n",
    "stage.replace('*', np.nan, inplace=True)\n",
    "diagnosis.replace('*', np.nan, inplace=True)\n",
    "mdt.replace('*', np.nan, inplace=True)\n",
    "treatment.replace('*', np.nan, inplace=True)\n",
    "smoking_status.replace('*', np.nan, inplace=True)\n",
    "PET.replace('*', np.nan, inplace=True)\n",
    "egfr_recording.replace('*', np.nan, inplace=True)\n",
    "egfr_tki.replace('*', np.nan, inplace=True)\n",
    "surgery.replace('*', np.nan, inplace=True)\n",
    "radiotherapy.replace('*', np.nan, inplace=True)\n",
    "mediansurvival.replace('*', np.nan, inplace=True)"
   ]
  },
  {
   "cell_type": "code",
   "execution_count": 5,
   "id": "046b8368-2f82-4cf0-869e-485fb238c63d",
   "metadata": {
    "tags": []
   },
   "outputs": [
    {
     "data": {
      "text/plain": [
       "trust              0\n",
       "cases              0\n",
       "PS0                2\n",
       "PS1                1\n",
       "PS2                2\n",
       "PS3                5\n",
       "PS4               14\n",
       "PS5                1\n",
       "casesPSmissing     9\n",
       "dtype: int64"
      ]
     },
     "execution_count": 5,
     "metadata": {},
     "output_type": "execute_result"
    }
   ],
   "source": [
    "performance.isnull().sum()"
   ]
  },
  {
   "cell_type": "code",
   "execution_count": 6,
   "id": "68f4e21a-9fa5-473b-9191-4f3699a3bbce",
   "metadata": {
    "tags": []
   },
   "outputs": [
    {
     "data": {
      "text/html": [
       "<div>\n",
       "<style scoped>\n",
       "    .dataframe tbody tr th:only-of-type {\n",
       "        vertical-align: middle;\n",
       "    }\n",
       "\n",
       "    .dataframe tbody tr th {\n",
       "        vertical-align: top;\n",
       "    }\n",
       "\n",
       "    .dataframe thead th {\n",
       "        text-align: right;\n",
       "    }\n",
       "</style>\n",
       "<table border=\"1\" class=\"dataframe\">\n",
       "  <thead>\n",
       "    <tr style=\"text-align: right;\">\n",
       "      <th></th>\n",
       "      <th>trust</th>\n",
       "      <th>cases</th>\n",
       "      <th>PS0</th>\n",
       "      <th>PS1</th>\n",
       "      <th>PS2</th>\n",
       "      <th>PS3</th>\n",
       "      <th>PS4</th>\n",
       "      <th>PS5</th>\n",
       "      <th>casesPSmissing</th>\n",
       "    </tr>\n",
       "  </thead>\n",
       "  <tbody>\n",
       "    <tr>\n",
       "      <th>0</th>\n",
       "      <td>7A1A1</td>\n",
       "      <td>180</td>\n",
       "      <td>37.0</td>\n",
       "      <td>60.0</td>\n",
       "      <td>21.0</td>\n",
       "      <td>38.0</td>\n",
       "      <td>18.0</td>\n",
       "      <td>6.0</td>\n",
       "      <td>NaN</td>\n",
       "    </tr>\n",
       "    <tr>\n",
       "      <th>1</th>\n",
       "      <td>7A1A4</td>\n",
       "      <td>168</td>\n",
       "      <td>29.0</td>\n",
       "      <td>55.0</td>\n",
       "      <td>36.0</td>\n",
       "      <td>33.0</td>\n",
       "      <td>11.0</td>\n",
       "      <td>0.0</td>\n",
       "      <td>4.0</td>\n",
       "    </tr>\n",
       "  </tbody>\n",
       "</table>\n",
       "</div>"
      ],
      "text/plain": [
       "   trust  cases   PS0   PS1   PS2   PS3   PS4  PS5  casesPSmissing\n",
       "0  7A1A1    180  37.0  60.0  21.0  38.0  18.0  6.0             NaN\n",
       "1  7A1A4    168  29.0  55.0  36.0  33.0  11.0  0.0             4.0"
      ]
     },
     "execution_count": 6,
     "metadata": {},
     "output_type": "execute_result"
    }
   ],
   "source": [
    "performance[:2]"
   ]
  },
  {
   "cell_type": "code",
   "execution_count": 7,
   "id": "25ccb5e8-135c-453e-9b06-db7f183a81e2",
   "metadata": {},
   "outputs": [
    {
     "data": {
      "text/plain": [
       "Index(['trust', 'cases', 'HadActiveRx'], dtype='object')"
      ]
     },
     "execution_count": 7,
     "metadata": {},
     "output_type": "execute_result"
    }
   ],
   "source": [
    "#get column names to create database tables\n",
    "\n",
    "treatment.columns"
   ]
  },
  {
   "cell_type": "code",
   "execution_count": 8,
   "id": "1e54209a-9043-4e00-91d2-16047fe068a3",
   "metadata": {},
   "outputs": [],
   "source": [
    "#rename column names to compatible database ASCII formats\n",
    "\n",
    "PET.rename({'petscan_pretreatment%':'petscan_pretreatment_percent'}, axis=1, inplace=True)\n",
    "egfr_recording.rename({'egfr_recording%':'egfr_recording_percent', 'cases_stage3&4':'cases_stage3_4'}, axis=1, inplace=True)\n",
    "egfr_tki.rename({'egfr_tki%':'egfr_tki_percent'}, axis=1, inplace=True)\n",
    "surgery.rename({'HadSurgery%':'HadSurgery_percent'}, axis=1, inplace=True)\n",
    "radiotherapy.rename({'HadRadiotherapy%':'HadRadiotherapy_percent'}, axis=1, inplace=True)\n",
    "egfr_tki.rename({'cases_stage3b&4':'cases_stage3b_4', 'EGFR_TKI%':'egfr_tki_percent'}, axis=1, inplace=True)"
   ]
  },
  {
   "cell_type": "code",
   "execution_count": null,
   "id": "dd908630-6b47-4642-a46f-564ee3915eb9",
   "metadata": {},
   "outputs": [],
   "source": []
  },
  {
   "cell_type": "code",
   "execution_count": 9,
   "id": "1c04db1f-25e2-4383-95a9-0908f334049b",
   "metadata": {},
   "outputs": [],
   "source": [
    "#Anonymise the trust name using the Faker module. \n",
    "#seed the random number generator to enable it produce the same data accross the different datasets\n",
    "\n",
    "from faker import Faker\n",
    "\n",
    "def anonymizer(df):\n",
    "    faker = Faker()\n",
    "    Faker.seed(4321)\n",
    "    dict_names = {name: faker.ean(prefixes=('00',), length=8) for name in df['trust'].unique()}\n",
    "    df['trust'] = df['trust'].map(dict_names)"
   ]
  },
  {
   "cell_type": "code",
   "execution_count": 10,
   "id": "d9342e33-462f-4e89-a160-b1c635780483",
   "metadata": {},
   "outputs": [],
   "source": [
    "#Run anonymizer to change the trust names \n",
    "\n",
    "anonymizer(performance)\n",
    "anonymizer(stage)\n",
    "anonymizer(diagnosis)\n",
    "anonymizer(mdt)\n",
    "anonymizer(treatment)\n",
    "anonymizer(smoking_status)\n",
    "anonymizer(PET)\n",
    "anonymizer(egfr_recording)\n",
    "anonymizer(egfr_tki)\n",
    "anonymizer(surgery)\n",
    "anonymizer(radiotherapy)\n",
    "anonymizer(mediansurvival)"
   ]
  },
  {
   "cell_type": "code",
   "execution_count": null,
   "id": "147a4856-71d5-4d9a-a41f-2d54ed0b71ac",
   "metadata": {},
   "outputs": [],
   "source": []
  },
  {
   "cell_type": "code",
   "execution_count": 11,
   "id": "8e8fa43d-a22e-4f41-ab56-30c1e0523205",
   "metadata": {},
   "outputs": [
    {
     "data": {
      "text/html": [
       "<div>\n",
       "<style scoped>\n",
       "    .dataframe tbody tr th:only-of-type {\n",
       "        vertical-align: middle;\n",
       "    }\n",
       "\n",
       "    .dataframe tbody tr th {\n",
       "        vertical-align: top;\n",
       "    }\n",
       "\n",
       "    .dataframe thead th {\n",
       "        text-align: right;\n",
       "    }\n",
       "</style>\n",
       "<table border=\"1\" class=\"dataframe\">\n",
       "  <thead>\n",
       "    <tr style=\"text-align: right;\">\n",
       "      <th></th>\n",
       "      <th>trust</th>\n",
       "      <th>cases</th>\n",
       "      <th>PS0</th>\n",
       "      <th>PS1</th>\n",
       "      <th>PS2</th>\n",
       "      <th>PS3</th>\n",
       "      <th>PS4</th>\n",
       "      <th>PS5</th>\n",
       "      <th>casesPSmissing</th>\n",
       "    </tr>\n",
       "  </thead>\n",
       "  <tbody>\n",
       "    <tr>\n",
       "      <th>0</th>\n",
       "      <td>00612517</td>\n",
       "      <td>180</td>\n",
       "      <td>37.0</td>\n",
       "      <td>60.0</td>\n",
       "      <td>21.0</td>\n",
       "      <td>38.0</td>\n",
       "      <td>18.0</td>\n",
       "      <td>6.0</td>\n",
       "      <td>NaN</td>\n",
       "    </tr>\n",
       "    <tr>\n",
       "      <th>1</th>\n",
       "      <td>00074698</td>\n",
       "      <td>168</td>\n",
       "      <td>29.0</td>\n",
       "      <td>55.0</td>\n",
       "      <td>36.0</td>\n",
       "      <td>33.0</td>\n",
       "      <td>11.0</td>\n",
       "      <td>0.0</td>\n",
       "      <td>4.0</td>\n",
       "    </tr>\n",
       "  </tbody>\n",
       "</table>\n",
       "</div>"
      ],
      "text/plain": [
       "      trust  cases   PS0   PS1   PS2   PS3   PS4  PS5  casesPSmissing\n",
       "0  00612517    180  37.0  60.0  21.0  38.0  18.0  6.0             NaN\n",
       "1  00074698    168  29.0  55.0  36.0  33.0  11.0  0.0             4.0"
      ]
     },
     "execution_count": 11,
     "metadata": {},
     "output_type": "execute_result"
    }
   ],
   "source": [
    "performance[:2]"
   ]
  },
  {
   "cell_type": "code",
   "execution_count": 12,
   "id": "d2d06a5d-2648-4a1c-a354-31c883f8923d",
   "metadata": {},
   "outputs": [
    {
     "data": {
      "text/html": [
       "<div>\n",
       "<style scoped>\n",
       "    .dataframe tbody tr th:only-of-type {\n",
       "        vertical-align: middle;\n",
       "    }\n",
       "\n",
       "    .dataframe tbody tr th {\n",
       "        vertical-align: top;\n",
       "    }\n",
       "\n",
       "    .dataframe thead th {\n",
       "        text-align: right;\n",
       "    }\n",
       "</style>\n",
       "<table border=\"1\" class=\"dataframe\">\n",
       "  <thead>\n",
       "    <tr style=\"text-align: right;\">\n",
       "      <th></th>\n",
       "      <th>trust</th>\n",
       "      <th>cases</th>\n",
       "      <th>CasesSgIA</th>\n",
       "      <th>CasesSgIB</th>\n",
       "      <th>CasesSgIIA</th>\n",
       "      <th>CasesSgIIB</th>\n",
       "      <th>CasesSgIIIA</th>\n",
       "      <th>CasesSgIIIB</th>\n",
       "      <th>CasesSgIV</th>\n",
       "      <th>CasesSgMissing</th>\n",
       "    </tr>\n",
       "  </thead>\n",
       "  <tbody>\n",
       "    <tr>\n",
       "      <th>0</th>\n",
       "      <td>00612517</td>\n",
       "      <td>181</td>\n",
       "      <td>18.0</td>\n",
       "      <td>10.0</td>\n",
       "      <td>12.0</td>\n",
       "      <td>5.0</td>\n",
       "      <td>27.0</td>\n",
       "      <td>19.0</td>\n",
       "      <td>84.0</td>\n",
       "      <td>6.0</td>\n",
       "    </tr>\n",
       "    <tr>\n",
       "      <th>1</th>\n",
       "      <td>00074698</td>\n",
       "      <td>168</td>\n",
       "      <td>19.0</td>\n",
       "      <td>8.0</td>\n",
       "      <td>11.0</td>\n",
       "      <td>7.0</td>\n",
       "      <td>19.0</td>\n",
       "      <td>29.0</td>\n",
       "      <td>75.0</td>\n",
       "      <td>0.0</td>\n",
       "    </tr>\n",
       "  </tbody>\n",
       "</table>\n",
       "</div>"
      ],
      "text/plain": [
       "      trust  cases  CasesSgIA  CasesSgIB  CasesSgIIA  CasesSgIIB  CasesSgIIIA  \\\n",
       "0  00612517    181       18.0       10.0        12.0         5.0         27.0   \n",
       "1  00074698    168       19.0        8.0        11.0         7.0         19.0   \n",
       "\n",
       "   CasesSgIIIB  CasesSgIV  CasesSgMissing  \n",
       "0         19.0       84.0             6.0  \n",
       "1         29.0       75.0             0.0  "
      ]
     },
     "execution_count": 12,
     "metadata": {},
     "output_type": "execute_result"
    }
   ],
   "source": [
    "stage[:2]"
   ]
  },
  {
   "cell_type": "code",
   "execution_count": 13,
   "id": "da8b2aa1-4d9e-4945-9fe4-412d97c9c0b2",
   "metadata": {},
   "outputs": [
    {
     "data": {
      "text/html": [
       "<div>\n",
       "<style scoped>\n",
       "    .dataframe tbody tr th:only-of-type {\n",
       "        vertical-align: middle;\n",
       "    }\n",
       "\n",
       "    .dataframe tbody tr th {\n",
       "        vertical-align: top;\n",
       "    }\n",
       "\n",
       "    .dataframe thead th {\n",
       "        text-align: right;\n",
       "    }\n",
       "</style>\n",
       "<table border=\"1\" class=\"dataframe\">\n",
       "  <thead>\n",
       "    <tr style=\"text-align: right;\">\n",
       "      <th></th>\n",
       "      <th>trust</th>\n",
       "      <th>cases</th>\n",
       "      <th>confirmed_cases</th>\n",
       "    </tr>\n",
       "  </thead>\n",
       "  <tbody>\n",
       "    <tr>\n",
       "      <th>0</th>\n",
       "      <td>00612517</td>\n",
       "      <td>181</td>\n",
       "      <td>129.0</td>\n",
       "    </tr>\n",
       "    <tr>\n",
       "      <th>1</th>\n",
       "      <td>00074698</td>\n",
       "      <td>168</td>\n",
       "      <td>125.0</td>\n",
       "    </tr>\n",
       "  </tbody>\n",
       "</table>\n",
       "</div>"
      ],
      "text/plain": [
       "      trust  cases  confirmed_cases\n",
       "0  00612517    181            129.0\n",
       "1  00074698    168            125.0"
      ]
     },
     "execution_count": 13,
     "metadata": {},
     "output_type": "execute_result"
    }
   ],
   "source": [
    "diagnosis[:2]"
   ]
  },
  {
   "cell_type": "code",
   "execution_count": 14,
   "id": "31ce830d-360f-453a-b8c2-02f1e84dae8b",
   "metadata": {},
   "outputs": [
    {
     "data": {
      "text/html": [
       "<div>\n",
       "<style scoped>\n",
       "    .dataframe tbody tr th:only-of-type {\n",
       "        vertical-align: middle;\n",
       "    }\n",
       "\n",
       "    .dataframe tbody tr th {\n",
       "        vertical-align: top;\n",
       "    }\n",
       "\n",
       "    .dataframe thead th {\n",
       "        text-align: right;\n",
       "    }\n",
       "</style>\n",
       "<table border=\"1\" class=\"dataframe\">\n",
       "  <thead>\n",
       "    <tr style=\"text-align: right;\">\n",
       "      <th></th>\n",
       "      <th>trust</th>\n",
       "      <th>mediansurvival_days</th>\n",
       "    </tr>\n",
       "  </thead>\n",
       "  <tbody>\n",
       "    <tr>\n",
       "      <th>0</th>\n",
       "      <td>00612517</td>\n",
       "      <td>233.0</td>\n",
       "    </tr>\n",
       "    <tr>\n",
       "      <th>1</th>\n",
       "      <td>00074698</td>\n",
       "      <td>216.5</td>\n",
       "    </tr>\n",
       "  </tbody>\n",
       "</table>\n",
       "</div>"
      ],
      "text/plain": [
       "      trust  mediansurvival_days\n",
       "0  00612517                233.0\n",
       "1  00074698                216.5"
      ]
     },
     "execution_count": 14,
     "metadata": {},
     "output_type": "execute_result"
    }
   ],
   "source": [
    "mediansurvival[:2]"
   ]
  },
  {
   "cell_type": "raw",
   "id": "b320172a-856b-4d44-97e0-e54cb7877ac2",
   "metadata": {
    "tags": []
   },
   "source": [
    "\"\"\"\n",
    "\n",
    "Create sqlite connection, database file called LungAudit2.db, \n",
    "and create database tables with corresponding column names as in excel tables\n",
    "\n",
    "\"\"\"\n",
    "\n",
    "\n",
    "\n",
    "def create_db():\n",
    "    conn=sqlite3.connect(r\"C:\\Users\\Ehimare\\sqlite3\\LungAudit2.db\")\n",
    "    cursor=conn.cursor()\n",
    "    \n",
    "    #create performance table\n",
    "    cursor.execute(\n",
    "    \"\"\"\n",
    "    CREATE TABLE performance (\n",
    "        trust VARCHAR NOT NULL,\n",
    "        cases VARCHAR,\n",
    "        PS0 VARCHAR,\n",
    "        PS1 VARCHAR,\n",
    "        PS2 VARCHAR,\n",
    "        PS3 VARCHAR,\n",
    "        PS4 VARCHAR,\n",
    "        PS5 VARCHAR,\n",
    "        casesPSmissing VARCHAR,\n",
    "        PRIMARY KEY(trust)\n",
    "        );\n",
    "     \"\"\"\n",
    "    )\n",
    "    \n",
    "    #create cancer stage table\n",
    "    cursor.execute(\n",
    "    \"\"\"\n",
    "    CREATE TABLE stage (\n",
    "        trust VARCHAR NOT NULL,\n",
    "        cases VARCHAR,\n",
    "        CasesSgIA VARCHAR,\n",
    "        CasesSgIB VARCHAR,\n",
    "        CasesSgIIA VARCHAR,\n",
    "        CasesSgIIB VARCHAR,\n",
    "        CasesSgIIIA VARCHAR,\n",
    "        CasesSgIII VARCHAR,\n",
    "        CasesSgIV VARCHAR,\n",
    "        CasesSgMissing VARCHAR,\n",
    "        PRIMARY KEY(trust)\n",
    "        );\n",
    "     \"\"\"\n",
    "    )\n",
    "    \n",
    "    #create confirmed diagnosis table\n",
    "    cursor.execute(\n",
    "    \"\"\"\n",
    "    CREATE TABLE diagnosis (\n",
    "        trust VARCHAR NOT NULL,\n",
    "        cases VARCHAR,\n",
    "        confirmed_cases VARCHAR,\n",
    "        PRIMARY KEY(trust)\n",
    "        );\n",
    "     \"\"\"\n",
    "    )\n",
    "\n",
    "    #create MDT discussion table\n",
    "    cursor.execute(\n",
    "    \"\"\"\n",
    "    CREATE TABLE mdt (\n",
    "        trust VARCHAR NOT NULL,\n",
    "        cases VARCHAR,\n",
    "        mdt_discussion VACHAR,\n",
    "        PRIMARY KEY(trust)\n",
    "        );\n",
    "     \"\"\"\n",
    "    )\n",
    "    \n",
    "\n",
    "    #create active treatment table\n",
    "    cursor.execute(\n",
    "    \"\"\"\n",
    "    CREATE TABLE treatment (\n",
    "        trust VARCHAR NOT NULL,\n",
    "        cases VARCHAR,\n",
    "        HadActiveRx VARCHAR,\n",
    "        PRIMARY KEY(trust)\n",
    "        );\n",
    "     \"\"\"\n",
    "    )\n",
    "\n",
    "    #create smoker table\n",
    "    cursor.execute(\n",
    "    \"\"\"\n",
    "    CREATE TABLE smoking_status (\n",
    "        trust VARCHAR NOT NULL,\n",
    "        cases VARCHAR,\n",
    "        smoker VARCHAR,\n",
    "        ex_smoker VARCHAR,\n",
    "        declined_to_respond VARCHAR,\n",
    "        never_smoked VARCHAR,\n",
    "        PRIMARY KEY(trust)\n",
    "        );\n",
    "     \"\"\"\n",
    "    )\n",
    "    \n",
    "    #create petscan pretreatment table\n",
    "    cursor.execute(\n",
    "    \"\"\"\n",
    "    CREATE TABLE PET (\n",
    "        trust VARCHAR NOT NULL,\n",
    "        cases_and_pet VARCHAR,\n",
    "        petscan_pretreatment_percent VARCHAR,\n",
    "        PRIMARY KEY(trust)\n",
    "        );\n",
    "     \"\"\"\n",
    "    )\n",
    "    \n",
    "    #create egfr recording table\n",
    "    cursor.execute(\n",
    "    \"\"\"\n",
    "    CREATE TABLE egfr_recording (\n",
    "        trust VARCHAR NOT NULL,\n",
    "        cases_stage3_4 VARCHAR,\n",
    "        egfr_recording_percent VARCHAR,\n",
    "        PRIMARY KEY(trust)\n",
    "        );\n",
    "     \"\"\"\n",
    "    )\n",
    "    \n",
    "    #create egfr tki table\n",
    "    cursor.execute(\n",
    "    \"\"\"\n",
    "    CREATE TABLE egfr_tki (\n",
    "        trust VARCHAR NOT NULL,\n",
    "        cases_stage3b_4 VARCHAR,\n",
    "        egfr_tki_percent VARCHAR,\n",
    "        PRIMARY KEY(trust)\n",
    "        );\n",
    "     \"\"\"\n",
    "    )\n",
    "    \n",
    "    #create surgery table\n",
    "    cursor.execute(\n",
    "    \"\"\"\n",
    "    CREATE TABLE surgery (\n",
    "        trust VARCHAR NOT NULL,\n",
    "        cases VARCHAR,\n",
    "        HadSurgery_percent VARCHAR,\n",
    "        PRIMARY KEY(trust)\n",
    "        );\n",
    "     \"\"\"\n",
    "    )\n",
    "    \n",
    "    #create radiotherapy table\n",
    "    cursor.execute(\n",
    "    \"\"\"\n",
    "    CREATE TABLE radiotherapy (\n",
    "        trust VARCHAR NOT NULL,\n",
    "        cases VARCHAR,\n",
    "        HadRadiotherapy_percent VARCHAR,\n",
    "        PRIMARY KEY(trust)\n",
    "        );\n",
    "     \"\"\"\n",
    "    )\n",
    "    \n",
    "    #create median survival table\n",
    "    cursor.execute(\n",
    "    \"\"\"\n",
    "    CREATE TABLE mediansurvival (\n",
    "        trust VARCHAR NOT NULL,\n",
    "        mediansurvival_days VARCHAR,\n",
    "        PRIMARY KEY(trust)\n",
    "        );\n",
    "     \"\"\"\n",
    "    )\n",
    "    \n",
    "    conn.commit()\n",
    "    conn.close()\n",
    "    \n",
    "#run create database funtion \n",
    "create_db()"
   ]
  },
  {
   "cell_type": "code",
   "execution_count": 15,
   "id": "cf232ca7-ccff-41af-bd13-bf93d696c973",
   "metadata": {},
   "outputs": [],
   "source": [
    "#create function to verify that tables have been created\n",
    "\n",
    "def tables():\n",
    "    conn=sqlite3.connect(r\"C:\\Users\\Ehimare\\sqlite3\\LungAudit2.db\")\n",
    "    cursor=conn.cursor()\n",
    "    tables = cursor.execute('''SELECT name from sqlite_master where type= \"table\"''')\n",
    "    print(tables.fetchall())\n",
    "    conn.commit()\n",
    "    conn.close()"
   ]
  },
  {
   "cell_type": "code",
   "execution_count": 16,
   "id": "1b40cd2e-6b5f-435d-b51a-a9d3552ebd0a",
   "metadata": {},
   "outputs": [
    {
     "name": "stdout",
     "output_type": "stream",
     "text": [
      "[('performance',), ('stage',), ('diagnosis',), ('mdt',), ('treatment',), ('smoking_status',), ('PET',), ('egfr_recording',), ('egfr_tki',), ('surgery',), ('radiotherapy',), ('mediansurvival',)]\n"
     ]
    }
   ],
   "source": [
    "#database tables created successfully\n",
    "\n",
    "tables()"
   ]
  },
  {
   "cell_type": "code",
   "execution_count": 17,
   "id": "76e0118c-d98c-48dd-bd60-116c837577f0",
   "metadata": {
    "tags": []
   },
   "outputs": [
    {
     "name": "stderr",
     "output_type": "stream",
     "text": [
      "C:\\Users\\Ehimare\\anaconda3\\lib\\site-packages\\pandas\\core\\generic.py:2779: UserWarning: The spaces in these column names will not be changed. In pandas versions < 0.14, spaces were converted to underscores.\n",
      "  sql.to_sql(\n"
     ]
    }
   ],
   "source": [
    "#load excel data tables into LungAudit2 database\n",
    "\n",
    "conn=sqlite3.connect(r\"C:\\Users\\Ehimare\\sqlite3\\LungAudit2.db\")\n",
    "\n",
    "performance.to_sql('performance', conn, if_exists='replace', index=False)\n",
    "stage.to_sql('stage', conn, if_exists='replace', index=False)\n",
    "diagnosis.to_sql('diagnosis', conn, if_exists='replace', index=False)\n",
    "mdt.to_sql('mdt', conn, if_exists='replace', index=False)\n",
    "treatment.to_sql('treatment', conn, if_exists='replace', index=False)\n",
    "smoking_status.to_sql('smoking_status', conn, if_exists='replace', index=False)\n",
    "PET.to_sql('PET', conn, if_exists='replace', index=False)\n",
    "egfr_recording.to_sql('egfr_recording', conn, if_exists='replace', index=False)\n",
    "egfr_tki.to_sql('egfr_tki', conn, if_exists='replace', index=False)\n",
    "surgery.to_sql('surgery', conn, if_exists='replace', index=False)\n",
    "radiotherapy.to_sql('radiotherapy', conn, if_exists='replace', index=False)\n",
    "mediansurvival.to_sql('mediansurvival', conn, if_exists='replace', index=False)\n",
    "\n",
    "conn.commit()\n",
    "conn.close()"
   ]
  },
  {
   "cell_type": "markdown",
   "id": "09126cdf-9fd9-4d41-8abe-9dd04b1e01cd",
   "metadata": {},
   "source": [
    "# Query and prepare data for analysis"
   ]
  },
  {
   "cell_type": "code",
   "execution_count": 18,
   "id": "51741385-09d0-4216-9ad2-ba1a529fb00e",
   "metadata": {},
   "outputs": [],
   "source": [
    "#Query everything from the corresponding tables and save data to dataframes\n",
    "\n",
    "conn=sqlite3.connect(r\"C:\\Users\\Ehimare\\sqlite3\\LungAudit2.db\")\n",
    "\n",
    "performance_df = pd.read_sql('SELECT * FROM performance', conn)\n",
    "stage_df = pd.read_sql('SELECT * FROM stage', conn)\n",
    "diagnosis_df = pd.read_sql('SELECT * FROM diagnosis', conn)\n",
    "mdt_df = pd.read_sql('SELECT * FROM mdt', conn)\n",
    "treatment_df = pd.read_sql('SELECT * FROM treatment', conn)\n",
    "smoking_status_df = pd.read_sql('SELECT * FROM smoking_status', conn)\n",
    "pet_df = pd.read_sql('SELECT * FROM PET', conn)\n",
    "egfr_recording_df = pd.read_sql('SELECT * FROM egfr_recording', conn)\n",
    "egfr_tki_df = pd.read_sql('SELECT * FROM egfr_tki', conn)\n",
    "surgery_df = pd.read_sql('SELECT * FROM surgery', conn)\n",
    "radiotherapy_df = pd.read_sql('SELECT * FROM radiotherapy', conn)\n",
    "mediansurvival_df = pd.read_sql('SELECT * FROM mediansurvival', conn)\n",
    "\n",
    "conn.commit()\n",
    "conn.close()"
   ]
  },
  {
   "cell_type": "code",
   "execution_count": 19,
   "id": "9d2888ef-b942-42bd-9af9-7fcb8bb51a8a",
   "metadata": {},
   "outputs": [
    {
     "name": "stdout",
     "output_type": "stream",
     "text": [
      "string\n",
      "integer\n",
      "floating\n",
      "floating\n",
      "floating\n",
      "floating\n",
      "floating\n",
      "floating\n",
      "floating\n"
     ]
    }
   ],
   "source": [
    "#Check data types\n",
    "\n",
    "for column in performance_df.columns:\n",
    "    print(pd.api.types.infer_dtype(performance_df[column]))\n",
    "    performance_df[column].apply(lambda x: isinstance(x, type))"
   ]
  },
  {
   "cell_type": "code",
   "execution_count": 20,
   "id": "38815026-efab-4038-be35-6529c40570e7",
   "metadata": {},
   "outputs": [],
   "source": [
    "#copy data to preserve original ones\n",
    "\n",
    "performance2 = performance_df.copy()\n",
    "stage2 = stage_df.copy()\n",
    "mdt2 = mdt_df.copy()\n",
    "treatment2 =treatment_df.copy()\n",
    "smoking2 = smoking_status_df.copy()\n",
    "pet2 = pet_df.copy()\n",
    "egfr_recording2 = egfr_recording_df.copy()\n",
    "egfr_tki2 = egfr_tki_df.copy()\n",
    "surgery2 = surgery_df.copy() \n",
    "radiotherapy2 = radiotherapy_df.copy()\n",
    "mediansurvival2 = mediansurvival_df.copy()"
   ]
  },
  {
   "cell_type": "code",
   "execution_count": null,
   "id": "5b13146f-ea07-4835-869f-de7218e7a781",
   "metadata": {},
   "outputs": [],
   "source": []
  },
  {
   "cell_type": "markdown",
   "id": "b36a42d9-0d6e-4d4c-aa1c-a9e183995654",
   "metadata": {},
   "source": [
    "## calculate for the required data and drop unwanted columns"
   ]
  },
  {
   "cell_type": "code",
   "execution_count": null,
   "id": "98fc9033-d6bf-4a49-a414-810e6f27e485",
   "metadata": {},
   "outputs": [],
   "source": []
  },
  {
   "cell_type": "code",
   "execution_count": 21,
   "id": "4505d30c-2b79-423a-a291-8f62cdc30f8e",
   "metadata": {},
   "outputs": [],
   "source": [
    "performance2.drop(['cases', 'casesPSmissing'], axis=1, inplace=True)\n",
    "stage2.drop(['cases', 'CasesSgMissing'], axis=1, inplace=True)\n",
    "mdt2.drop('cases', axis=1, inplace=True)\n",
    "smoking2.drop('cases', axis=1, inplace=True)"
   ]
  },
  {
   "cell_type": "code",
   "execution_count": 22,
   "id": "5bf67f66-0b53-4166-85c8-555a177db31f",
   "metadata": {},
   "outputs": [],
   "source": [
    "pet2['HadPet_pretreatment'] = (pet2['petscan_pretreatment_percent']/100) * (pet2[' cases_and_pet'])\n",
    "pet2.drop([' cases_and_pet', 'petscan_pretreatment_percent'], axis=1, inplace=True)"
   ]
  },
  {
   "cell_type": "code",
   "execution_count": 23,
   "id": "2928c6e4-07fd-4e2b-9aac-243c575951ba",
   "metadata": {},
   "outputs": [],
   "source": [
    "egfr_recording2['HadRecording'] = (egfr_recording2['egfr_recording_percent']/100) * (egfr_recording2['cases_stage3_4'])\n",
    "egfr_recording2.drop(['trustfirstseen', 'cases_stage3_4', 'egfr_recording_percent'], axis=1, inplace=True)"
   ]
  },
  {
   "cell_type": "code",
   "execution_count": 24,
   "id": "95875099-08d4-4e65-81b8-274fb9e1a3a1",
   "metadata": {},
   "outputs": [],
   "source": [
    "egfr_tki2['Had_tki'] = (egfr_tki2['egfr_tki_percent']/100) * (egfr_tki2['cases_stage3b_4'])\n",
    "egfr_tki2.drop(['cases_stage3b_4', 'egfr_tki_percent'], axis=1, inplace=True)"
   ]
  },
  {
   "cell_type": "code",
   "execution_count": 25,
   "id": "af2e5f5f-40fb-4c89-b373-f632064d25a5",
   "metadata": {},
   "outputs": [],
   "source": [
    "surgery2['Had_surgery'] = (surgery2['HadSurgery_percent']/100) * (surgery2['cases'])\n",
    "surgery2.drop(['cases', 'HadSurgery_percent'], axis=1, inplace=True)"
   ]
  },
  {
   "cell_type": "code",
   "execution_count": 26,
   "id": "50b3b73d-e322-4dae-ba70-2fad24b2272d",
   "metadata": {},
   "outputs": [],
   "source": [
    "radiotherapy2['Had_radio'] = (radiotherapy2['HadRadiotherapy_percent']/100) * (radiotherapy2['cases'])\n",
    "radiotherapy2.drop(['cases', 'HadRadiotherapy_percent'], axis=1, inplace=True)"
   ]
  },
  {
   "cell_type": "code",
   "execution_count": 27,
   "id": "cca9085a-9c80-4a35-88f6-dc97be124ff7",
   "metadata": {},
   "outputs": [],
   "source": [
    "treatment2['ActiveRx'] = (treatment2['HadActiveRx']/100) * (treatment2['cases'])\n",
    "treatment2.drop(['cases', 'HadActiveRx'], axis=1, inplace=True)"
   ]
  },
  {
   "cell_type": "code",
   "execution_count": null,
   "id": "ba651bf2-391a-42c7-8114-6e12e6dff231",
   "metadata": {},
   "outputs": [],
   "source": []
  },
  {
   "cell_type": "raw",
   "id": "5b4ccdd5-e9f0-417f-9dc0-f12687de34cd",
   "metadata": {},
   "source": [
    "## Combine required datasets\n",
    "## to minimise loss of data since not all datasets have equal number of rows, separate the data into 2 dataframes "
   ]
  },
  {
   "cell_type": "code",
   "execution_count": 28,
   "id": "8032ed56-8640-4c2b-9a87-5dc344fff252",
   "metadata": {},
   "outputs": [],
   "source": [
    "from functools import reduce\n",
    "df1 = reduce(lambda left,right: pd.merge(left, right, on='trust', how='left'), \n",
    "             [performance2, stage2, mdt2,treatment2,surgery2,radiotherapy2,mediansurvival2]\n",
    "            )"
   ]
  },
  {
   "cell_type": "code",
   "execution_count": 29,
   "id": "3b6e868c-46fd-4711-a0a2-d08a0d24eb3e",
   "metadata": {},
   "outputs": [],
   "source": [
    "df2 = reduce(lambda left,right: pd.merge(left, right, on='trust', how='left'), \n",
    "             [smoking2, pet2, egfr_recording2,egfr_tki2, mediansurvival2])"
   ]
  },
  {
   "cell_type": "code",
   "execution_count": 30,
   "id": "87ffb33b-c37d-4d7b-b929-c2f416bdb6ed",
   "metadata": {},
   "outputs": [
    {
     "data": {
      "text/plain": [
       "151"
      ]
     },
     "execution_count": 30,
     "metadata": {},
     "output_type": "execute_result"
    }
   ],
   "source": [
    "df1.shape[0]"
   ]
  },
  {
   "cell_type": "code",
   "execution_count": 31,
   "id": "e4f9b59b-df05-418f-9302-3ce81bfaadc0",
   "metadata": {},
   "outputs": [
    {
     "data": {
      "text/plain": [
       "140"
      ]
     },
     "execution_count": 31,
     "metadata": {},
     "output_type": "execute_result"
    }
   ],
   "source": [
    "df2.shape[0]"
   ]
  },
  {
   "cell_type": "code",
   "execution_count": 32,
   "id": "24026cbe-4fbc-44cf-9a04-1adae0d42978",
   "metadata": {
    "tags": []
   },
   "outputs": [
    {
     "data": {
      "text/plain": [
       "trust                  0\n",
       "PS0                    0\n",
       "PS1                    0\n",
       "PS2                    0\n",
       "PS3                    0\n",
       "PS4                    0\n",
       "PS5                    0\n",
       "CasesSgIA              0\n",
       "CasesSgIB              0\n",
       "CasesSgIIA             0\n",
       "CasesSgIIB             0\n",
       "CasesSgIIIA            0\n",
       "CasesSgIIIB            0\n",
       "CasesSgIV              0\n",
       "mdt_discussion         0\n",
       "ActiveRx               0\n",
       "Had_surgery            0\n",
       "Had_radio              0\n",
       "mediansurvival_days    0\n",
       "dtype: int64"
      ]
     },
     "execution_count": 32,
     "metadata": {},
     "output_type": "execute_result"
    }
   ],
   "source": [
    "df1[df1.duplicated()].count()"
   ]
  },
  {
   "cell_type": "code",
   "execution_count": 33,
   "id": "85ee7d0c-db42-45a8-ad43-846a347a324d",
   "metadata": {
    "tags": []
   },
   "outputs": [
    {
     "data": {
      "text/plain": [
       "trust                  0\n",
       "smoker                 0\n",
       "ex_smoker              0\n",
       "declined_to_respond    0\n",
       "never_smoked           0\n",
       "HadPet_pretreatment    0\n",
       "HadRecording           0\n",
       "Had_tki                0\n",
       "mediansurvival_days    0\n",
       "dtype: int64"
      ]
     },
     "execution_count": 33,
     "metadata": {},
     "output_type": "execute_result"
    }
   ],
   "source": [
    "df2[df2.duplicated()].count()"
   ]
  },
  {
   "cell_type": "code",
   "execution_count": null,
   "id": "cb3d1ed8-aaa3-4445-806c-c1a88caf91c3",
   "metadata": {},
   "outputs": [],
   "source": []
  },
  {
   "cell_type": "markdown",
   "id": "f4397143-d020-4665-bc9a-85cb908a8803",
   "metadata": {},
   "source": [
    "# There are no duplicated data. Check for missingness in the data"
   ]
  },
  {
   "cell_type": "code",
   "execution_count": 34,
   "id": "2afe4e61-690d-44e0-9b79-ee2c64f438ca",
   "metadata": {},
   "outputs": [],
   "source": [
    "#Calculate missingness in the first dataframe\n",
    "\n",
    "df1_missing = df1.isnull().sum().sort_values(ascending=False)\n",
    "df1_nulls = df1.isnull().sum()\n",
    "df1_sample = df1.isnull().count()\n",
    "df1_percent_missing = 100*(df1_nulls/df1_sample).sort_values(ascending=False)\n",
    "missing_data = pd.concat([df1_missing, df1_percent_missing], axis=1, keys=['missing', 'percentage'])"
   ]
  },
  {
   "cell_type": "code",
   "execution_count": 35,
   "id": "0cddc98b-3e72-4ffb-8fe9-65ae0fd3baa4",
   "metadata": {},
   "outputs": [
    {
     "data": {
      "image/png": "[encoded data removed]",
      "text/plain": [
       "<Figure size 864x504 with 1 Axes>"
      ]
     },
     "metadata": {
      "needs_background": "light"
     },
     "output_type": "display_data"
    }
   ],
   "source": [
    "#percentage missingness\n",
    "\n",
    "plt.rcParams['figure.figsize']=(12,7)\n",
    "plt.figure()\n",
    "missing_data['percentage'].plot.bar()\n",
    "plt.show()"
   ]
  },
  {
   "cell_type": "code",
   "execution_count": 36,
   "id": "7c3dc894-c07f-43d6-8830-763ffd3ee9ff",
   "metadata": {},
   "outputs": [],
   "source": [
    "#Calculate missingness in the second dataframe\n",
    "\n",
    "df2_missing = df2.isnull().sum().sort_values(ascending=False)\n",
    "df2_nulls = df2.isnull().sum()\n",
    "df2_sample = df2.isnull().count()\n",
    "df2_percent_missing = 100*(df2_nulls/df2_sample).sort_values(ascending=False)\n",
    "missing_data_df2 = pd.concat([df2_missing, df2_percent_missing], axis=1, keys=['missing', 'percentage'])"
   ]
  },
  {
   "cell_type": "code",
   "execution_count": 37,
   "id": "9c1b6e46-b952-4dc1-9824-3d24223b37f9",
   "metadata": {},
   "outputs": [
    {
     "data": {
      "image/png": "[encoded data removed]",
      "text/plain": [
       "<Figure size 864x504 with 1 Axes>"
      ]
     },
     "metadata": {
      "needs_background": "light"
     },
     "output_type": "display_data"
    }
   ],
   "source": [
    "#Percentage missingness\n",
    "\n",
    "plt.figure()\n",
    "missing_data_df2['percentage'].plot.bar()\n",
    "plt.show()"
   ]
  },
  {
   "cell_type": "code",
   "execution_count": null,
   "id": "0ef3b348-4bf8-4640-80db-c8e1595a703c",
   "metadata": {},
   "outputs": [],
   "source": []
  },
  {
   "cell_type": "code",
   "execution_count": 38,
   "id": "d581469a-fe9f-4999-85e4-e9a560a064e3",
   "metadata": {},
   "outputs": [],
   "source": [
    "#since the missing are not too many, fill them with zeros \n",
    "df1=df1.fillna(0)\n",
    "df2 =df2.fillna(0)"
   ]
  },
  {
   "cell_type": "code",
   "execution_count": null,
   "id": "0065ab11-a13b-41c1-8144-caf031a156c9",
   "metadata": {},
   "outputs": [],
   "source": []
  },
  {
   "cell_type": "markdown",
   "id": "7aeda6d9-7efd-4bfb-988e-2d729b692d7f",
   "metadata": {},
   "source": [
    "## check for and remove outliers"
   ]
  },
  {
   "cell_type": "code",
   "execution_count": null,
   "id": "a8ce8814-11ca-4abe-9b93-be3fb0158c9d",
   "metadata": {},
   "outputs": [],
   "source": []
  },
  {
   "cell_type": "markdown",
   "id": "50b7289a-152d-4f8e-aa16-e00e31b76b77",
   "metadata": {},
   "source": [
    "## dataframe *one>"
   ]
  },
  {
   "cell_type": "code",
   "execution_count": 39,
   "id": "50d52a58-650b-4242-b579-74b8232cbec8",
   "metadata": {},
   "outputs": [
    {
     "data": {
      "image/png": "[encoded data removed]",
      "text/plain": [
       "<Figure size 864x504 with 1 Axes>"
      ]
     },
     "metadata": {
      "needs_background": "light"
     },
     "output_type": "display_data"
    }
   ],
   "source": [
    "#show outliers using boxplot\n",
    "\n",
    "plt.figure()\n",
    "seaborn.boxplot(data=df1)\n",
    "plt.xticks(rotation=90)\n",
    "plt.show()"
   ]
  },
  {
   "cell_type": "code",
   "execution_count": 40,
   "id": "b6388d0c-ea43-471b-8291-cc0b36d62703",
   "metadata": {},
   "outputs": [],
   "source": [
    "df_1 = df1.copy()\n",
    "df_1.drop('trust', axis=1, inplace=True)"
   ]
  },
  {
   "cell_type": "code",
   "execution_count": 41,
   "id": "7df1edd8-7326-4e9f-8303-0b6521a29ca5",
   "metadata": {},
   "outputs": [],
   "source": [
    "def outliers(df, ft):\n",
    "    Q1 = df[ft].quantile(0.25)\n",
    "    Q3 = df[ft].quantile(0.75)\n",
    "    IQR = Q3 - Q1\n",
    "    \n",
    "    lower = Q1 - 1.5 * IQR\n",
    "    upper = Q3 + 1.5 * IQR\n",
    "    \n",
    "    ls = df.index[(df[ft] < lower) | (df[ft] > upper)]\n",
    "    \n",
    "    return ls"
   ]
  },
  {
   "cell_type": "code",
   "execution_count": 42,
   "id": "85272765-e8ba-4747-9573-ce877bcd0ff4",
   "metadata": {},
   "outputs": [],
   "source": [
    "index_list= []\n",
    "for col in df_1.columns:\n",
    "    index_list.extend(outliers(df_1, col))"
   ]
  },
  {
   "cell_type": "code",
   "execution_count": 43,
   "id": "ad7ab592-d8d4-425a-bc59-0058b580db21",
   "metadata": {},
   "outputs": [],
   "source": [
    "def remove(df, index_list):  \n",
    "    index_list = sorted(set(index_list))\n",
    "    df = df.drop(index_list)\n",
    "    return df"
   ]
  },
  {
   "cell_type": "code",
   "execution_count": 44,
   "id": "ffe45208-c118-49f1-8cc2-f3130b4dead0",
   "metadata": {},
   "outputs": [],
   "source": [
    "df_1 = remove(df_1, index_list)"
   ]
  },
  {
   "cell_type": "code",
   "execution_count": 45,
   "id": "ebbe9dc9-e8fd-43c3-bf58-8c6033ae3300",
   "metadata": {},
   "outputs": [
    {
     "data": {
      "image/png": "[encoded data removed]",
      "text/plain": [
       "<Figure size 864x504 with 1 Axes>"
      ]
     },
     "metadata": {
      "needs_background": "light"
     },
     "output_type": "display_data"
    }
   ],
   "source": [
    "plt.figure()\n",
    "seaborn.boxplot(data=df_1)\n",
    "plt.xticks(rotation=90)\n",
    "plt.show()"
   ]
  },
  {
   "cell_type": "code",
   "execution_count": 46,
   "id": "25e7a426-625b-4148-9e81-19007acfba0a",
   "metadata": {},
   "outputs": [
    {
     "data": {
      "text/plain": [
       "<Figure size 864x504 with 0 Axes>"
      ]
     },
     "metadata": {},
     "output_type": "display_data"
    },
    {
     "data": {
      "image/png": "[encoded data removed]",
      "text/plain": [
       "<Figure size 864x504 with 20 Axes>"
      ]
     },
     "metadata": {
      "needs_background": "light"
     },
     "output_type": "display_data"
    }
   ],
   "source": [
    "#The cleaned data is mostly has a bell shaped distribution\n",
    "plt.figure()\n",
    "df_1.hist()\n",
    "plt.show()"
   ]
  },
  {
   "cell_type": "code",
   "execution_count": null,
   "id": "fd7deec5-3788-42a9-abbf-24702890e5ef",
   "metadata": {},
   "outputs": [],
   "source": []
  },
  {
   "cell_type": "markdown",
   "id": "f644bf85-4d4a-45d4-a064-fb4bcf2375da",
   "metadata": {},
   "source": [
    "## dataframe *two>"
   ]
  },
  {
   "cell_type": "code",
   "execution_count": 47,
   "id": "42924458-4a7c-4450-8f82-fef17bf2c4cf",
   "metadata": {},
   "outputs": [
    {
     "data": {
      "image/png": "[encoded data removed]",
      "text/plain": [
       "<Figure size 864x504 with 1 Axes>"
      ]
     },
     "metadata": {
      "needs_background": "light"
     },
     "output_type": "display_data"
    }
   ],
   "source": [
    "plt.figure()\n",
    "seaborn.boxplot(data=df2)\n",
    "plt.xticks(rotation=90)\n",
    "plt.show()"
   ]
  },
  {
   "cell_type": "code",
   "execution_count": 48,
   "id": "d7b7bea9-348d-4d07-bf90-a00befc9db16",
   "metadata": {},
   "outputs": [],
   "source": [
    "df_2 = df2.copy()\n",
    "df_2.drop('trust', axis=1, inplace=True)\n",
    "\n",
    "index_list2= []\n",
    "for col in df_2.columns:\n",
    "    index_list2.extend(outliers(df_2, col))"
   ]
  },
  {
   "cell_type": "code",
   "execution_count": 49,
   "id": "e141f085-04fa-4bec-8343-24b6be0e9ecc",
   "metadata": {},
   "outputs": [],
   "source": [
    "df_2 = remove(df_2, index_list2)"
   ]
  },
  {
   "cell_type": "code",
   "execution_count": 50,
   "id": "c75e81de-ecd9-4340-9349-e21d011e884b",
   "metadata": {},
   "outputs": [
    {
     "data": {
      "image/png": "[encoded data removed]",
      "text/plain": [
       "<Figure size 864x504 with 1 Axes>"
      ]
     },
     "metadata": {
      "needs_background": "light"
     },
     "output_type": "display_data"
    }
   ],
   "source": [
    "plt.figure()\n",
    "seaborn.boxplot(data=df_2)\n",
    "plt.xticks(rotation=90)\n",
    "plt.show()"
   ]
  },
  {
   "cell_type": "code",
   "execution_count": 51,
   "id": "b5816e79-e46c-4780-85c4-18ea6785122b",
   "metadata": {},
   "outputs": [
    {
     "data": {
      "text/plain": [
       "<Figure size 864x504 with 0 Axes>"
      ]
     },
     "metadata": {},
     "output_type": "display_data"
    },
    {
     "data": {
      "image/png": "[encoded data removed]",
      "text/plain": [
       "<Figure size 864x504 with 9 Axes>"
      ]
     },
     "metadata": {
      "needs_background": "light"
     },
     "output_type": "display_data"
    }
   ],
   "source": [
    "#The cleaned data mostly has a skewed distribution in the second dataset even after removing outliers\n",
    "\n",
    "plt.figure()\n",
    "df_2.hist()\n",
    "plt.show()"
   ]
  },
  {
   "cell_type": "code",
   "execution_count": null,
   "id": "8324f276-4902-495a-8c9f-8100255fef66",
   "metadata": {},
   "outputs": [],
   "source": []
  },
  {
   "cell_type": "markdown",
   "id": "a4e0e35c-001e-4ca2-bc27-f910919f3420",
   "metadata": {},
   "source": [
    "# normalise data and check for correlation"
   ]
  },
  {
   "cell_type": "code",
   "execution_count": 52,
   "id": "f416f5e2-4f04-41cf-98eb-243ddb4d0b47",
   "metadata": {},
   "outputs": [],
   "source": [
    "from sklearn.preprocessing import normalize, scale"
   ]
  },
  {
   "cell_type": "markdown",
   "id": "e73de987-77c2-4316-a321-1c05ecfc3208",
   "metadata": {},
   "source": [
    "## dataframe *one>"
   ]
  },
  {
   "cell_type": "code",
   "execution_count": 53,
   "id": "7bac7acc-6c28-4b44-8133-1b6acafe2b2a",
   "metadata": {},
   "outputs": [
    {
     "data": {
      "text/plain": [
       "array([[ 29.    ,  55.    ,  36.    , ...,  34.272 ,  65.6712, 216.5   ],\n",
       "       [ 12.    ,  41.    ,  30.    , ...,  25.06  ,  41.482 , 181.5   ],\n",
       "       [ 17.    ,  18.    ,  10.    , ...,   8.96  ,   6.02  , 214.    ],\n",
       "       ...,\n",
       "       [ 63.    , 115.    ,  66.    , ...,  69.552 ,  98.4768, 241.    ],\n",
       "       [ 74.    ,  87.    ,  37.    , ...,  55.428 ,  69.3744, 233.    ],\n",
       "       [ 71.    ,  76.    ,  46.    , ...,  54.855 ,  78.1485, 277.    ]])"
      ]
     },
     "execution_count": 53,
     "metadata": {},
     "output_type": "execute_result"
    }
   ],
   "source": [
    "df = np.array(df_1)\n",
    "df"
   ]
  },
  {
   "cell_type": "code",
   "execution_count": 54,
   "id": "debcd7db-68bb-4b89-a7e4-f6743680c031",
   "metadata": {},
   "outputs": [
    {
     "data": {
      "text/plain": [
       "array([[-0.19449935, -0.33292368, -0.15797568, ..., -0.27066498,\n",
       "         0.04056537, -0.2875648 ],\n",
       "       [-1.00478519, -0.77043731, -0.4601194 , ..., -0.80606669,\n",
       "        -0.72057035, -0.9892973 ],\n",
       "       [-0.76646583, -1.4892097 , -1.46726514, ..., -1.74179917,\n",
       "        -1.83641524, -0.33768855],\n",
       "       ...,\n",
       "       [ 1.42607233,  1.54213474,  1.35274292, ...,  1.77980967,\n",
       "         1.07282415,  0.20364794],\n",
       "       [ 1.95037493,  0.66710748, -0.1076184 , ...,  0.95892237,\n",
       "         0.15709001,  0.04325195],\n",
       "       [ 1.80738331,  0.32334677,  0.34559719, ...,  0.9256196 ,\n",
       "         0.43317525,  0.92542994]])"
      ]
     },
     "execution_count": 54,
     "metadata": {},
     "output_type": "execute_result"
    }
   ],
   "source": [
    "df1_scaled = scale(df, axis = 0)\n",
    "df1_scaled"
   ]
  },
  {
   "cell_type": "code",
   "execution_count": 55,
   "id": "486cfd20-07db-4a39-b581-05780b181dd1",
   "metadata": {},
   "outputs": [
    {
     "name": "stdout",
     "output_type": "stream",
     "text": [
      "1.0\n",
      "9.848752637803808e-17\n"
     ]
    }
   ],
   "source": [
    "print(np.var(df1_scaled[:,0]))\n",
    "print(np.mean(df1_scaled[:,0]))"
   ]
  },
  {
   "cell_type": "code",
   "execution_count": 56,
   "id": "075db0b1-3c42-4dcb-9d6e-899ee28927b8",
   "metadata": {},
   "outputs": [
    {
     "data": {
      "text/html": [
       "<div>\n",
       "<style scoped>\n",
       "    .dataframe tbody tr th:only-of-type {\n",
       "        vertical-align: middle;\n",
       "    }\n",
       "\n",
       "    .dataframe tbody tr th {\n",
       "        vertical-align: top;\n",
       "    }\n",
       "\n",
       "    .dataframe thead th {\n",
       "        text-align: right;\n",
       "    }\n",
       "</style>\n",
       "<table border=\"1\" class=\"dataframe\">\n",
       "  <thead>\n",
       "    <tr style=\"text-align: right;\">\n",
       "      <th></th>\n",
       "      <th>PS0</th>\n",
       "      <th>PS1</th>\n",
       "      <th>PS2</th>\n",
       "      <th>PS3</th>\n",
       "      <th>PS4</th>\n",
       "      <th>PS5</th>\n",
       "      <th>CasesSgIA</th>\n",
       "      <th>CasesSgIB</th>\n",
       "      <th>CasesSgIIA</th>\n",
       "      <th>CasesSgIIB</th>\n",
       "      <th>CasesSgIIIA</th>\n",
       "      <th>CasesSgIIIB</th>\n",
       "      <th>CasesSgIV</th>\n",
       "      <th>mdt_discussion</th>\n",
       "      <th>ActiveRx</th>\n",
       "      <th>Had_surgery</th>\n",
       "      <th>Had_radio</th>\n",
       "      <th>mediansurvival_days</th>\n",
       "    </tr>\n",
       "  </thead>\n",
       "  <tbody>\n",
       "    <tr>\n",
       "      <th>0</th>\n",
       "      <td>-0.194499</td>\n",
       "      <td>-0.332924</td>\n",
       "      <td>-0.157976</td>\n",
       "      <td>-0.157856</td>\n",
       "      <td>-0.130137</td>\n",
       "      <td>0.0</td>\n",
       "      <td>-0.532894</td>\n",
       "      <td>-0.894664</td>\n",
       "      <td>0.464364</td>\n",
       "      <td>-0.226137</td>\n",
       "      <td>-0.457002</td>\n",
       "      <td>0.808926</td>\n",
       "      <td>-0.668918</td>\n",
       "      <td>-0.301703</td>\n",
       "      <td>-0.347798</td>\n",
       "      <td>-0.270665</td>\n",
       "      <td>0.040565</td>\n",
       "      <td>-0.287565</td>\n",
       "    </tr>\n",
       "    <tr>\n",
       "      <th>1</th>\n",
       "      <td>-1.004785</td>\n",
       "      <td>-0.770437</td>\n",
       "      <td>-0.460119</td>\n",
       "      <td>0.688861</td>\n",
       "      <td>-0.597878</td>\n",
       "      <td>0.0</td>\n",
       "      <td>-0.900816</td>\n",
       "      <td>0.163151</td>\n",
       "      <td>-1.697387</td>\n",
       "      <td>-0.432321</td>\n",
       "      <td>-1.404344</td>\n",
       "      <td>0.167109</td>\n",
       "      <td>-0.690121</td>\n",
       "      <td>-0.614913</td>\n",
       "      <td>-1.065107</td>\n",
       "      <td>-0.806067</td>\n",
       "      <td>-0.720570</td>\n",
       "      <td>-0.989297</td>\n",
       "    </tr>\n",
       "    <tr>\n",
       "      <th>2</th>\n",
       "      <td>-0.766466</td>\n",
       "      <td>-1.489210</td>\n",
       "      <td>-1.467265</td>\n",
       "      <td>-1.253606</td>\n",
       "      <td>-1.416424</td>\n",
       "      <td>0.0</td>\n",
       "      <td>-1.930998</td>\n",
       "      <td>-1.159118</td>\n",
       "      <td>-1.697387</td>\n",
       "      <td>-1.669424</td>\n",
       "      <td>-1.576588</td>\n",
       "      <td>-1.208214</td>\n",
       "      <td>-1.623050</td>\n",
       "      <td>-1.589343</td>\n",
       "      <td>-1.800189</td>\n",
       "      <td>-1.741799</td>\n",
       "      <td>-1.836415</td>\n",
       "      <td>-0.337689</td>\n",
       "    </tr>\n",
       "  </tbody>\n",
       "</table>\n",
       "</div>"
      ],
      "text/plain": [
       "        PS0       PS1       PS2       PS3       PS4  PS5  CasesSgIA  \\\n",
       "0 -0.194499 -0.332924 -0.157976 -0.157856 -0.130137  0.0  -0.532894   \n",
       "1 -1.004785 -0.770437 -0.460119  0.688861 -0.597878  0.0  -0.900816   \n",
       "2 -0.766466 -1.489210 -1.467265 -1.253606 -1.416424  0.0  -1.930998   \n",
       "\n",
       "   CasesSgIB  CasesSgIIA  CasesSgIIB  CasesSgIIIA  CasesSgIIIB  CasesSgIV  \\\n",
       "0  -0.894664    0.464364   -0.226137    -0.457002     0.808926  -0.668918   \n",
       "1   0.163151   -1.697387   -0.432321    -1.404344     0.167109  -0.690121   \n",
       "2  -1.159118   -1.697387   -1.669424    -1.576588    -1.208214  -1.623050   \n",
       "\n",
       "   mdt_discussion  ActiveRx  Had_surgery  Had_radio  mediansurvival_days  \n",
       "0       -0.301703 -0.347798    -0.270665   0.040565            -0.287565  \n",
       "1       -0.614913 -1.065107    -0.806067  -0.720570            -0.989297  \n",
       "2       -1.589343 -1.800189    -1.741799  -1.836415            -0.337689  "
      ]
     },
     "execution_count": 56,
     "metadata": {},
     "output_type": "execute_result"
    }
   ],
   "source": [
    "df1_scaled = pd.DataFrame(df1_scaled, columns = df_1.columns)\n",
    "df1_scaled.head(3)"
   ]
  },
  {
   "cell_type": "code",
   "execution_count": 57,
   "id": "40c63ceb-9fc0-4b2e-af01-96564de4956f",
   "metadata": {},
   "outputs": [
    {
     "data": {
      "text/plain": [
       "<AxesSubplot:>"
      ]
     },
     "execution_count": 57,
     "metadata": {},
     "output_type": "execute_result"
    },
    {
     "data": {
      "image/png": "[encoded data removed]",
      "text/plain": [
       "<Figure size 864x504 with 2 Axes>"
      ]
     },
     "metadata": {
      "needs_background": "light"
     },
     "output_type": "display_data"
    }
   ],
   "source": [
    "seaborn.heatmap(df1_scaled.corr())"
   ]
  },
  {
   "cell_type": "code",
   "execution_count": 58,
   "id": "21b197d9-637f-465b-84bc-c41e0278146e",
   "metadata": {},
   "outputs": [
    {
     "data": {
      "text/plain": [
       "<AxesSubplot:>"
      ]
     },
     "execution_count": 58,
     "metadata": {},
     "output_type": "execute_result"
    },
    {
     "data": {
      "image/png": "[encoded data removed]",
      "text/plain": [
       "<Figure size 864x504 with 1 Axes>"
      ]
     },
     "metadata": {
      "needs_background": "light"
     },
     "output_type": "display_data"
    }
   ],
   "source": [
    "df1_scaled.corr()['mediansurvival_days'].sort_values(ascending = False).plot(kind='bar')"
   ]
  },
  {
   "cell_type": "code",
   "execution_count": null,
   "id": "5543b663-9b85-435b-b837-a19dbe35a1a1",
   "metadata": {},
   "outputs": [],
   "source": []
  },
  {
   "cell_type": "markdown",
   "id": "945331c9-a7aa-4301-ad51-41462824dab5",
   "metadata": {},
   "source": [
    "## dataframe *two>"
   ]
  },
  {
   "cell_type": "code",
   "execution_count": 59,
   "id": "fce9387f-ddc6-4bc7-b73a-1639539749f4",
   "metadata": {},
   "outputs": [
    {
     "data": {
      "text/plain": [
       "array([[  9.    ,  13.    ,   7.    ,   0.    , 146.    ,   0.    ,\n",
       "          0.9982, 233.    ],\n",
       "       [149.    , 218.    , 203.    ,  21.    ,  28.    ,  11.0001,\n",
       "          1.0011, 181.5   ]])"
      ]
     },
     "execution_count": 59,
     "metadata": {},
     "output_type": "execute_result"
    }
   ],
   "source": [
    "df_two = np.array(df_2)\n",
    "df_two[:2]"
   ]
  },
  {
   "cell_type": "code",
   "execution_count": 60,
   "id": "6d714557-2f1d-4280-8438-97a61c110db7",
   "metadata": {},
   "outputs": [
    {
     "data": {
      "text/plain": [
       "array([[-1.12059099, -1.20683431, -1.17293451, -1.27597842,  2.31925984,\n",
       "        -0.77886383, -1.08784126, -0.06187733],\n",
       "       [ 2.92459173,  2.8065835 ,  1.22419523,  1.96769304, -0.74942229,\n",
       "         0.06397221, -1.08666773, -1.08126113]])"
      ]
     },
     "execution_count": 60,
     "metadata": {},
     "output_type": "execute_result"
    }
   ],
   "source": [
    "df2_scaled = scale(df_two, axis = 0)\n",
    "df2_scaled[:2]"
   ]
  },
  {
   "cell_type": "code",
   "execution_count": 61,
   "id": "3c229b6d-ec02-4253-8064-bc31c0eebea4",
   "metadata": {},
   "outputs": [
    {
     "name": "stdout",
     "output_type": "stream",
     "text": [
      "6.178632484870436e-17\n",
      "0.9999999999999998\n"
     ]
    }
   ],
   "source": [
    "print(np.mean(df2_scaled[:,0]))\n",
    "print(np.var(df2_scaled[:,0]))"
   ]
  },
  {
   "cell_type": "code",
   "execution_count": 62,
   "id": "4e89373f-023e-497f-8463-2b115a08fdce",
   "metadata": {},
   "outputs": [
    {
     "data": {
      "text/html": [
       "<div>\n",
       "<style scoped>\n",
       "    .dataframe tbody tr th:only-of-type {\n",
       "        vertical-align: middle;\n",
       "    }\n",
       "\n",
       "    .dataframe tbody tr th {\n",
       "        vertical-align: top;\n",
       "    }\n",
       "\n",
       "    .dataframe thead th {\n",
       "        text-align: right;\n",
       "    }\n",
       "</style>\n",
       "<table border=\"1\" class=\"dataframe\">\n",
       "  <thead>\n",
       "    <tr style=\"text-align: right;\">\n",
       "      <th></th>\n",
       "      <th>smoker</th>\n",
       "      <th>ex_smoker</th>\n",
       "      <th>declined_to_respond</th>\n",
       "      <th>never_smoked</th>\n",
       "      <th>HadPet_pretreatment</th>\n",
       "      <th>HadRecording</th>\n",
       "      <th>Had_tki</th>\n",
       "      <th>mediansurvival_days</th>\n",
       "    </tr>\n",
       "  </thead>\n",
       "  <tbody>\n",
       "    <tr>\n",
       "      <th>0</th>\n",
       "      <td>-1.120591</td>\n",
       "      <td>-1.206834</td>\n",
       "      <td>-1.172935</td>\n",
       "      <td>-1.275978</td>\n",
       "      <td>2.319260</td>\n",
       "      <td>-0.778864</td>\n",
       "      <td>-1.087841</td>\n",
       "      <td>-0.061877</td>\n",
       "    </tr>\n",
       "    <tr>\n",
       "      <th>1</th>\n",
       "      <td>2.924592</td>\n",
       "      <td>2.806583</td>\n",
       "      <td>1.224195</td>\n",
       "      <td>1.967693</td>\n",
       "      <td>-0.749422</td>\n",
       "      <td>0.063972</td>\n",
       "      <td>-1.086668</td>\n",
       "      <td>-1.081261</td>\n",
       "    </tr>\n",
       "    <tr>\n",
       "      <th>2</th>\n",
       "      <td>-0.109295</td>\n",
       "      <td>-0.462884</td>\n",
       "      <td>0.612683</td>\n",
       "      <td>0.732009</td>\n",
       "      <td>-0.983474</td>\n",
       "      <td>-0.778864</td>\n",
       "      <td>0.531030</td>\n",
       "      <td>-1.546417</td>\n",
       "    </tr>\n",
       "  </tbody>\n",
       "</table>\n",
       "</div>"
      ],
      "text/plain": [
       "     smoker  ex_smoker  declined_to_respond  never_smoked  \\\n",
       "0 -1.120591  -1.206834            -1.172935     -1.275978   \n",
       "1  2.924592   2.806583             1.224195      1.967693   \n",
       "2 -0.109295  -0.462884             0.612683      0.732009   \n",
       "\n",
       "   HadPet_pretreatment  HadRecording   Had_tki  mediansurvival_days  \n",
       "0             2.319260     -0.778864 -1.087841            -0.061877  \n",
       "1            -0.749422      0.063972 -1.086668            -1.081261  \n",
       "2            -0.983474     -0.778864  0.531030            -1.546417  "
      ]
     },
     "execution_count": 62,
     "metadata": {},
     "output_type": "execute_result"
    }
   ],
   "source": [
    "df2_scaled = pd.DataFrame(df2_scaled, columns = df_2.columns)\n",
    "df2_scaled.head(3)"
   ]
  },
  {
   "cell_type": "code",
   "execution_count": 63,
   "id": "2e58d8e2-bda3-40ad-92ad-0f57d643a0ed",
   "metadata": {},
   "outputs": [
    {
     "data": {
      "text/plain": [
       "<AxesSubplot:>"
      ]
     },
     "execution_count": 63,
     "metadata": {},
     "output_type": "execute_result"
    },
    {
     "data": {
      "image/png": "[encoded data removed]",
      "text/plain": [
       "<Figure size 864x504 with 2 Axes>"
      ]
     },
     "metadata": {
      "needs_background": "light"
     },
     "output_type": "display_data"
    }
   ],
   "source": [
    "seaborn.heatmap(df2_scaled.corr())"
   ]
  },
  {
   "cell_type": "code",
   "execution_count": 64,
   "id": "d67716a5-7ac3-4bdb-9f2b-8d9272573e94",
   "metadata": {},
   "outputs": [
    {
     "data": {
      "text/plain": [
       "<AxesSubplot:>"
      ]
     },
     "execution_count": 64,
     "metadata": {},
     "output_type": "execute_result"
    },
    {
     "data": {
      "image/png": "[encoded data removed]",
      "text/plain": [
       "<Figure size 864x504 with 1 Axes>"
      ]
     },
     "metadata": {
      "needs_background": "light"
     },
     "output_type": "display_data"
    }
   ],
   "source": [
    "df2_scaled.corr()['mediansurvival_days'].sort_values(ascending=False).plot.bar()"
   ]
  },
  {
   "cell_type": "code",
   "execution_count": null,
   "id": "2da4f37b-2f6e-41f8-9d1b-6208e5f871aa",
   "metadata": {},
   "outputs": [],
   "source": []
  },
  {
   "cell_type": "markdown",
   "id": "288bf675-c3e9-4095-8a82-b4a1704cd47d",
   "metadata": {},
   "source": [
    "# check Pearson correlation for the most visibly correlated columns"
   ]
  },
  {
   "cell_type": "markdown",
   "id": "5fa6057f-293f-4567-af9b-cb3279bdf3f5",
   "metadata": {},
   "source": [
    "## dataframe *one>"
   ]
  },
  {
   "cell_type": "code",
   "execution_count": 65,
   "id": "8d1dc99f-dac0-4e5a-aa0a-824f27a5a4b4",
   "metadata": {},
   "outputs": [],
   "source": [
    "from scipy.stats import pearsonr"
   ]
  },
  {
   "cell_type": "code",
   "execution_count": 66,
   "id": "4fdb3ac6-be41-46f3-a7ff-bd680b73df27",
   "metadata": {},
   "outputs": [
    {
     "name": "stdout",
     "output_type": "stream",
     "text": [
      "stat=0.172, p=0.057\n",
      "Probably dependent\n"
     ]
    }
   ],
   "source": [
    "stat, p = pearsonr(df1_scaled['mediansurvival_days'], df1_scaled['CasesSgIA'])\n",
    "print('stat=%.3f, p=%.3f' % (stat, p))\n",
    "if p > 0.06:\n",
    "    print('Probably independent')\n",
    "else:\n",
    "    print('Probably dependent')"
   ]
  },
  {
   "cell_type": "code",
   "execution_count": 67,
   "id": "d7965d72-7497-4583-b1e6-f78fbbe3b29d",
   "metadata": {},
   "outputs": [
    {
     "name": "stdout",
     "output_type": "stream",
     "text": [
      "stat=0.107, p=0.238\n",
      "Probably independent\n"
     ]
    }
   ],
   "source": [
    "stat, p = pearsonr(df1_scaled['mediansurvival_days'], df1_scaled['PS0'])\n",
    "print('stat=%.3f, p=%.3f' % (stat, p))\n",
    "if p > 0.06:\n",
    "    print('Probably independent')\n",
    "else:\n",
    "    print('Probably dependent')"
   ]
  },
  {
   "cell_type": "code",
   "execution_count": 68,
   "id": "0780630f-f27b-4941-a31b-1d3157713a25",
   "metadata": {},
   "outputs": [
    {
     "name": "stdout",
     "output_type": "stream",
     "text": [
      "stat=0.083, p=0.357\n",
      "Probably independent\n"
     ]
    }
   ],
   "source": [
    "stat, p = pearsonr(df1_scaled['mediansurvival_days'], df1_scaled['ActiveRx'])\n",
    "print('stat=%.3f, p=%.3f' % (stat, p))\n",
    "if p > 0.06:\n",
    "    print('Probably independent')\n",
    "else:\n",
    "    print('Probably dependent')"
   ]
  },
  {
   "cell_type": "code",
   "execution_count": 69,
   "id": "bd0c7501-ec7a-40d6-b8dd-010549673bae",
   "metadata": {},
   "outputs": [
    {
     "name": "stdout",
     "output_type": "stream",
     "text": [
      "stat=0.073, p=0.417\n",
      "Probably independent\n"
     ]
    }
   ],
   "source": [
    "stat, p = pearsonr(df1_scaled['mediansurvival_days'], df1_scaled['CasesSgIB'])\n",
    "print('stat=%.3f, p=%.3f' % (stat, p))\n",
    "if p > 0.06:\n",
    "    print('Probably independent')\n",
    "else:\n",
    "    print('Probably dependent')"
   ]
  },
  {
   "cell_type": "code",
   "execution_count": 70,
   "id": "2f3cd919-8d50-442d-9ceb-d8e94e94938d",
   "metadata": {},
   "outputs": [
    {
     "name": "stdout",
     "output_type": "stream",
     "text": [
      "stat=0.086, p=0.341\n",
      "Probably independent\n"
     ]
    }
   ],
   "source": [
    "stat, p = pearsonr(df1_scaled['mediansurvival_days'], df1_scaled['Had_surgery'])\n",
    "print('stat=%.3f, p=%.3f' % (stat, p))\n",
    "if p > 0.06:\n",
    "    print('Probably independent')\n",
    "else:\n",
    "    print('Probably dependent')"
   ]
  },
  {
   "cell_type": "code",
   "execution_count": 71,
   "id": "dd71b4c2-6466-4c55-bc0e-f35194fbb03e",
   "metadata": {},
   "outputs": [
    {
     "name": "stdout",
     "output_type": "stream",
     "text": [
      "stat=0.048, p=0.600\n",
      "Probably independent\n"
     ]
    }
   ],
   "source": [
    "stat, p = pearsonr(df1_scaled['mediansurvival_days'], df1_scaled['Had_radio'])\n",
    "print('stat=%.3f, p=%.3f' % (stat, p))\n",
    "if p > 0.06:\n",
    "    print('Probably independent')\n",
    "else:\n",
    "    print('Probably dependent')"
   ]
  },
  {
   "cell_type": "code",
   "execution_count": 72,
   "id": "31c3748e-0892-49d5-a9ba-5fceb761eca1",
   "metadata": {},
   "outputs": [
    {
     "name": "stdout",
     "output_type": "stream",
     "text": [
      "stat=-0.061, p=0.502\n",
      "Probably independent\n"
     ]
    }
   ],
   "source": [
    "stat, p = pearsonr(df1_scaled['mediansurvival_days'], df1_scaled['CasesSgIIB'])\n",
    "print('stat=%.3f, p=%.3f' % (stat, p))\n",
    "if p > 0.06:\n",
    "    print('Probably independent')\n",
    "else:\n",
    "    print('Probably dependent')"
   ]
  },
  {
   "cell_type": "code",
   "execution_count": null,
   "id": "7dc92ef1-0c8a-455a-847d-25bb90415ad3",
   "metadata": {},
   "outputs": [],
   "source": []
  },
  {
   "cell_type": "markdown",
   "id": "d51d6f3a-8e5a-44ac-a73f-16c39b94dac6",
   "metadata": {},
   "source": [
    "## Dataframe two"
   ]
  },
  {
   "cell_type": "code",
   "execution_count": 73,
   "id": "a7034b29-2fb4-433a-9378-e987461b3f11",
   "metadata": {},
   "outputs": [
    {
     "name": "stdout",
     "output_type": "stream",
     "text": [
      "stat=0.039, p=0.676\n",
      "Probably independent\n"
     ]
    }
   ],
   "source": [
    "stat, p = pearsonr(df2_scaled['mediansurvival_days'], df2_scaled['HadRecording'])\n",
    "print('stat=%.3f, p=%.3f' % (stat, p))\n",
    "if p > 0.06:\n",
    "    print('Probably independent')\n",
    "else:\n",
    "    print('Probably dependent')"
   ]
  },
  {
   "cell_type": "code",
   "execution_count": 74,
   "id": "f9080de4-03ea-445e-9c1f-f69e68c9c411",
   "metadata": {},
   "outputs": [
    {
     "name": "stdout",
     "output_type": "stream",
     "text": [
      "stat=0.039, p=0.676\n",
      "Probably independent\n"
     ]
    }
   ],
   "source": [
    "stat, p = pearsonr(df2_scaled['mediansurvival_days'], df2_scaled['HadRecording'])\n",
    "print('stat=%.3f, p=%.3f' % (stat, p))\n",
    "if p > 0.06:\n",
    "    print('Probably independent')\n",
    "else:\n",
    "    print('Probably dependent')"
   ]
  },
  {
   "cell_type": "code",
   "execution_count": 75,
   "id": "85f5594a-6d73-487f-9a7d-54b56e6d90a3",
   "metadata": {},
   "outputs": [
    {
     "name": "stdout",
     "output_type": "stream",
     "text": [
      "stat=-0.071, p=0.448\n",
      "Probably independent\n"
     ]
    }
   ],
   "source": [
    "stat, p = pearsonr(df2_scaled['mediansurvival_days'], df2_scaled['HadPet_pretreatment'])\n",
    "print('stat=%.3f, p=%.3f' % (stat, p))\n",
    "if p > 0.06:\n",
    "    print('Probably independent')\n",
    "else:\n",
    "    print('Probably dependent')"
   ]
  },
  {
   "cell_type": "code",
   "execution_count": 76,
   "id": "752fac6f-e057-4f36-ab23-75da123b72a6",
   "metadata": {},
   "outputs": [
    {
     "name": "stdout",
     "output_type": "stream",
     "text": [
      "stat=-0.078, p=0.410\n",
      "Probably independent\n"
     ]
    }
   ],
   "source": [
    "stat, p = pearsonr(df2_scaled['mediansurvival_days'], df2_scaled['never_smoked'])\n",
    "print('stat=%.3f, p=%.3f' % (stat, p))\n",
    "if p > 0.06:\n",
    "    print('Probably independent')\n",
    "else:\n",
    "    print('Probably dependent')"
   ]
  },
  {
   "cell_type": "code",
   "execution_count": 77,
   "id": "4064e9d8-97eb-40d6-a286-eae33c7c98a4",
   "metadata": {},
   "outputs": [
    {
     "name": "stdout",
     "output_type": "stream",
     "text": [
      "stat=-0.135, p=0.151\n",
      "Probably independent\n"
     ]
    }
   ],
   "source": [
    "stat, p = pearsonr(df2_scaled['mediansurvival_days'], df2_scaled['ex_smoker'])\n",
    "print('stat=%.3f, p=%.3f' % (stat, p))\n",
    "if p > 0.06:\n",
    "    print('Probably independent')\n",
    "else:\n",
    "    print('Probably dependent')"
   ]
  },
  {
   "cell_type": "code",
   "execution_count": 78,
   "id": "535b9f59-2355-4bfc-a06c-02391ee3a27b",
   "metadata": {},
   "outputs": [
    {
     "name": "stdout",
     "output_type": "stream",
     "text": [
      "stat=-0.145, p=0.123\n",
      "Probably independent\n"
     ]
    }
   ],
   "source": [
    "stat, p = pearsonr(df2_scaled['mediansurvival_days'], df2_scaled['smoker'])\n",
    "print('stat=%.3f, p=%.3f' % (stat, p))\n",
    "if p > 0.06:\n",
    "    print('Probably independent')\n",
    "else:\n",
    "    print('Probably dependent')"
   ]
  },
  {
   "cell_type": "code",
   "execution_count": null,
   "id": "4db745eb-b006-4c46-aaee-3206545bfb43",
   "metadata": {},
   "outputs": [],
   "source": []
  },
  {
   "cell_type": "markdown",
   "id": "f64542d3-c46d-406f-b30d-38be6f0766b4",
   "metadata": {},
   "source": [
    "# Perform multivariate linear regression to further confirm relationship"
   ]
  },
  {
   "cell_type": "code",
   "execution_count": 79,
   "id": "a68a13f9-fa89-4e1a-a2d3-9bbcf29d7b57",
   "metadata": {},
   "outputs": [],
   "source": [
    "import statsmodels.api as sm"
   ]
  },
  {
   "cell_type": "markdown",
   "id": "b7ad245a-e921-4342-b53a-eece9a0fb655",
   "metadata": {},
   "source": [
    "## Dataframe *one>"
   ]
  },
  {
   "cell_type": "code",
   "execution_count": null,
   "id": "6e45f707-d9ef-4086-b2f2-2cdb6b8df4be",
   "metadata": {},
   "outputs": [],
   "source": []
  },
  {
   "cell_type": "code",
   "execution_count": 80,
   "id": "092a6b54-6612-47d3-a522-66c8cb534ab7",
   "metadata": {},
   "outputs": [],
   "source": [
    "x = df_1.iloc[:, :-1]\n",
    "y= df_1['mediansurvival_days']\n",
    "\n",
    "x= scale(x, axis=0)\n",
    "y=scale(y, axis=0)\n",
    "\n",
    "x = np.array(x)\n",
    "y = np.array(y)"
   ]
  },
  {
   "cell_type": "code",
   "execution_count": 81,
   "id": "7e37c6fd-affb-4736-920a-718bc1c534ab",
   "metadata": {},
   "outputs": [],
   "source": [
    "x = sm.add_constant(x)"
   ]
  },
  {
   "cell_type": "code",
   "execution_count": 82,
   "id": "d4fe4037-f841-4154-9431-06e5b7ceb44f",
   "metadata": {},
   "outputs": [],
   "source": [
    "model = sm.OLS(y, x)"
   ]
  },
  {
   "cell_type": "code",
   "execution_count": 83,
   "id": "7b98ae84-a2a6-4f85-90b6-e7fcf92c5761",
   "metadata": {},
   "outputs": [],
   "source": [
    "results = model.fit()"
   ]
  },
  {
   "cell_type": "code",
   "execution_count": 84,
   "id": "08aafb30-584a-4853-9000-9dccbbd7e4e4",
   "metadata": {},
   "outputs": [
    {
     "name": "stdout",
     "output_type": "stream",
     "text": [
      "                            OLS Regression Results                            \n",
      "==============================================================================\n",
      "Dep. Variable:                      y   R-squared:                       0.183\n",
      "Model:                            OLS   Adj. R-squared:                  0.061\n",
      "Method:                 Least Squares   F-statistic:                     1.498\n",
      "Date:                Tue, 15 Nov 2022   Prob (F-statistic):              0.114\n",
      "Time:                        22:22:12   Log-Likelihood:                -163.42\n",
      "No. Observations:                 124   AIC:                             360.8\n",
      "Df Residuals:                     107   BIC:                             408.8\n",
      "Df Model:                          16                                         \n",
      "Covariance Type:            nonrobust                                         \n",
      "==============================================================================\n",
      "                 coef    std err          t      P>|t|      [0.025      0.975]\n",
      "------------------------------------------------------------------------------\n",
      "const      -6.939e-18      0.087  -7.94e-17      1.000      -0.173       0.173\n",
      "x1             0.2333      0.194      1.202      0.232      -0.151       0.618\n",
      "x2            -0.0715      0.259     -0.276      0.783      -0.585       0.442\n",
      "x3             0.1464      0.190      0.772      0.442      -0.230       0.522\n",
      "x4             0.1683      0.189      0.893      0.374      -0.205       0.542\n",
      "x5             0.0362      0.131      0.276      0.783      -0.224       0.296\n",
      "x6         -4.047e-16   3.37e-16     -1.199      0.233   -1.07e-15    2.64e-16\n",
      "x7             0.1486      0.193      0.769      0.444      -0.235       0.532\n",
      "x8            -0.0332      0.158     -0.210      0.834      -0.347       0.281\n",
      "x9             0.0644      0.150      0.429      0.669      -0.233       0.362\n",
      "x10           -0.2857      0.158     -1.805      0.074      -0.599       0.028\n",
      "x11            0.1478      0.226      0.654      0.515      -0.300       0.596\n",
      "x12           -0.1146      0.199     -0.575      0.567      -0.510       0.281\n",
      "x13           -0.4499      0.324     -1.389      0.168      -1.092       0.192\n",
      "x14           -0.6535      0.474     -1.378      0.171      -1.594       0.287\n",
      "x15            0.7387      0.652      1.133      0.260      -0.554       2.031\n",
      "x16            0.1196      0.259      0.462      0.645      -0.393       0.632\n",
      "x17           -0.0808      0.298     -0.271      0.787      -0.672       0.510\n",
      "==============================================================================\n",
      "Omnibus:                        0.341   Durbin-Watson:                   2.237\n",
      "Prob(Omnibus):                  0.843   Jarque-Bera (JB):                0.180\n",
      "Skew:                           0.091   Prob(JB):                        0.914\n",
      "Kurtosis:                       3.039   Cond. No.                     2.72e+17\n",
      "==============================================================================\n",
      "\n",
      "Notes:\n",
      "[1] Standard Errors assume that the covariance matrix of the errors is correctly specified.\n",
      "[2] The smallest eigenvalue is 1.93e-32. This might indicate that there are\n",
      "strong multicollinearity problems or that the design matrix is singular.\n"
     ]
    }
   ],
   "source": [
    "print(results.summary())"
   ]
  },
  {
   "cell_type": "code",
   "execution_count": 117,
   "id": "bb3edc52-de57-42a6-a4f0-ea9bfb0ebbe3",
   "metadata": {},
   "outputs": [
    {
     "name": "stdout",
     "output_type": "stream",
     "text": [
      "Index(['PS0', 'PS1', 'PS2', 'PS3', 'PS4', 'PS5', 'CasesSgIA', 'CasesSgIB',\n",
      "       'CasesSgIIA', 'CasesSgIIB', 'CasesSgIIIA', 'CasesSgIIIB', 'CasesSgIV',\n",
      "       'mdt_discussion', 'ActiveRx', 'Had_surgery', 'Had_radio'],\n",
      "      dtype='object')\n",
      "[0, 1, 2, 3, 4, 5, 6, 7, 8, 9, 10, 11, 12, 13, 14, 15, 16]\n"
     ]
    }
   ],
   "source": [
    "cols = df_1.iloc[:,:-1].columns\n",
    "print(cols)\n",
    "print([df_1.columns.get_loc(c) for c in cols if c in df_1.iloc[:,:-1]])"
   ]
  },
  {
   "cell_type": "code",
   "execution_count": null,
   "id": "40bcff09-4638-492b-902f-b018bfd4f6ee",
   "metadata": {},
   "outputs": [],
   "source": []
  },
  {
   "cell_type": "markdown",
   "id": "bb3a995b-d528-45e1-85dc-09bf6b630dc2",
   "metadata": {},
   "source": [
    "## dataframe *two>"
   ]
  },
  {
   "cell_type": "code",
   "execution_count": 85,
   "id": "bd7eb028-5531-4e8a-aad0-3bf475500fca",
   "metadata": {},
   "outputs": [],
   "source": [
    "x2= df_2.iloc[:, :-1]\n",
    "y2= df_2['mediansurvival_days']\n",
    "\n",
    "x2= scale(x2, axis=0)\n",
    "y2=scale(y2, axis=0)\n",
    "\n",
    "x2 = np.array(x2)\n",
    "y2 = np.array(y2)"
   ]
  },
  {
   "cell_type": "code",
   "execution_count": 86,
   "id": "8475a738-62bc-42bf-9952-6a65f0a019ab",
   "metadata": {},
   "outputs": [],
   "source": [
    "x2 = sm.add_constant(x2)"
   ]
  },
  {
   "cell_type": "code",
   "execution_count": 87,
   "id": "08ea35c9-5ffe-4669-9d39-bf8a84160f7f",
   "metadata": {},
   "outputs": [],
   "source": [
    "model2 = sm.OLS(y2, x2)"
   ]
  },
  {
   "cell_type": "code",
   "execution_count": 88,
   "id": "48355c8e-3d00-43f7-95f2-bab676b2d3a1",
   "metadata": {},
   "outputs": [],
   "source": [
    "results2 = model2.fit()"
   ]
  },
  {
   "cell_type": "code",
   "execution_count": 89,
   "id": "30e7b259-204a-4684-8028-cd6c852776b3",
   "metadata": {},
   "outputs": [
    {
     "name": "stdout",
     "output_type": "stream",
     "text": [
      "                            OLS Regression Results                            \n",
      "==============================================================================\n",
      "Dep. Variable:                      y   R-squared:                       0.039\n",
      "Model:                            OLS   Adj. R-squared:                 -0.024\n",
      "Method:                 Least Squares   F-statistic:                    0.6216\n",
      "Date:                Tue, 15 Nov 2022   Prob (F-statistic):              0.737\n",
      "Time:                        22:22:12   Log-Likelihood:                -160.89\n",
      "No. Observations:                 115   AIC:                             337.8\n",
      "Df Residuals:                     107   BIC:                             359.7\n",
      "Df Model:                           7                                         \n",
      "Covariance Type:            nonrobust                                         \n",
      "==============================================================================\n",
      "                 coef    std err          t      P>|t|      [0.025      0.975]\n",
      "------------------------------------------------------------------------------\n",
      "const       1.249e-16      0.095   1.32e-15      1.000      -0.188       0.188\n",
      "x1            -0.1330      0.237     -0.560      0.576      -0.604       0.337\n",
      "x2            -0.0657      0.251     -0.262      0.794      -0.563       0.432\n",
      "x3            -0.1015      0.098     -1.040      0.301      -0.295       0.092\n",
      "x4             0.0496      0.158      0.315      0.754      -0.263       0.362\n",
      "x5            -0.0452      0.106     -0.426      0.671      -0.255       0.165\n",
      "x6             0.0421      0.099      0.425      0.672      -0.154       0.238\n",
      "x7            -0.0253      0.103     -0.245      0.807      -0.230       0.180\n",
      "==============================================================================\n",
      "Omnibus:                        1.261   Durbin-Watson:                   2.211\n",
      "Prob(Omnibus):                  0.532   Jarque-Bera (JB):                1.182\n",
      "Skew:                          -0.104   Prob(JB):                        0.554\n",
      "Kurtosis:                       2.549   Cond. No.                         5.68\n",
      "==============================================================================\n",
      "\n",
      "Notes:\n",
      "[1] Standard Errors assume that the covariance matrix of the errors is correctly specified.\n"
     ]
    }
   ],
   "source": [
    "print(results2.summary())"
   ]
  },
  {
   "cell_type": "code",
   "execution_count": 90,
   "id": "fb88626b-6314-4f49-8a3f-9a8b1c97323a",
   "metadata": {},
   "outputs": [
    {
     "data": {
      "text/plain": [
       "Index(['smoker', 'ex_smoker', 'declined_to_respond', 'never_smoked',\n",
       "       'HadPet_pretreatment', 'HadRecording', 'Had_tki',\n",
       "       'mediansurvival_days'],\n",
       "      dtype='object')"
      ]
     },
     "execution_count": 90,
     "metadata": {},
     "output_type": "execute_result"
    }
   ],
   "source": [
    "df_2.columns"
   ]
  },
  {
   "cell_type": "markdown",
   "id": "defe8dfd-36d8-45ff-9e5f-0cdd28f63557",
   "metadata": {},
   "source": [
    "## perform clustering analysis using Kmeans"
   ]
  },
  {
   "cell_type": "code",
   "execution_count": 91,
   "id": "d81e947a-6c5d-439c-a0c1-1ed34241fc36",
   "metadata": {},
   "outputs": [],
   "source": [
    "from sklearn.cluster import KMeans"
   ]
  },
  {
   "cell_type": "markdown",
   "id": "375871ac-9196-425e-9654-3afe16a2d351",
   "metadata": {},
   "source": [
    "## dataframe *one>"
   ]
  },
  {
   "cell_type": "code",
   "execution_count": 92,
   "id": "4eb6d4f1-b767-42d7-a51b-e54f7ba231c0",
   "metadata": {},
   "outputs": [],
   "source": [
    "df1_scaled = scale(df1, axis=0)"
   ]
  },
  {
   "cell_type": "code",
   "execution_count": 93,
   "id": "6ff10d12-2925-4e3f-87a5-28694a22ab3b",
   "metadata": {},
   "outputs": [],
   "source": [
    "kmeans = KMeans(n_clusters=2, random_state=0).fit(df1_scaled)"
   ]
  },
  {
   "cell_type": "code",
   "execution_count": 94,
   "id": "895219eb-556f-4c0a-9354-205f636d6106",
   "metadata": {},
   "outputs": [
    {
     "data": {
      "text/plain": [
       "array([0, 0, 0, 0, 0, 0, 0, 1, 1, 0, 0, 0, 1, 0, 0, 1, 1, 0, 1, 0, 0, 0,\n",
       "       0, 0, 0, 0, 0, 1, 0, 0, 0, 0, 0, 0, 1, 1, 0, 0, 0, 0, 0, 1, 0, 0,\n",
       "       0, 0, 0, 0, 0, 1, 1, 0, 0, 1, 1, 0, 1, 0, 0, 0, 0, 1, 0, 0, 0, 0,\n",
       "       1, 1, 1, 0, 0, 0, 0, 0, 0, 1, 1, 0, 0, 0, 0, 1, 1, 0, 1, 1, 0, 0,\n",
       "       1, 0, 0, 0, 0, 0, 0, 0, 0, 0, 0, 0, 1, 0, 0, 0, 0, 0, 0, 0, 1, 1,\n",
       "       1, 0, 0, 1, 1, 1, 1, 1, 0, 0, 1, 0, 1, 0, 1, 1, 0, 1, 1, 1, 1, 0,\n",
       "       0, 0, 0, 1, 0, 1, 1, 0, 1, 1, 0, 0, 0, 1, 0, 1, 1, 0, 1])"
      ]
     },
     "execution_count": 94,
     "metadata": {},
     "output_type": "execute_result"
    }
   ],
   "source": [
    "kmeans.labels_"
   ]
  },
  {
   "cell_type": "code",
   "execution_count": 95,
   "id": "6b489b98-7b7e-4de5-9560-8aa2a8ea5b38",
   "metadata": {},
   "outputs": [],
   "source": [
    "df1['labels'] = kmeans.labels_"
   ]
  },
  {
   "cell_type": "code",
   "execution_count": 96,
   "id": "04624851-a9fe-434d-9c14-540714aa6424",
   "metadata": {},
   "outputs": [
    {
     "data": {
      "text/html": [
       "<div>\n",
       "<style scoped>\n",
       "    .dataframe tbody tr th:only-of-type {\n",
       "        vertical-align: middle;\n",
       "    }\n",
       "\n",
       "    .dataframe tbody tr th {\n",
       "        vertical-align: top;\n",
       "    }\n",
       "\n",
       "    .dataframe thead th {\n",
       "        text-align: right;\n",
       "    }\n",
       "</style>\n",
       "<table border=\"1\" class=\"dataframe\">\n",
       "  <thead>\n",
       "    <tr style=\"text-align: right;\">\n",
       "      <th></th>\n",
       "      <th>PS0</th>\n",
       "      <th>PS1</th>\n",
       "      <th>PS2</th>\n",
       "      <th>PS3</th>\n",
       "      <th>PS4</th>\n",
       "      <th>PS5</th>\n",
       "      <th>CasesSgIA</th>\n",
       "      <th>CasesSgIB</th>\n",
       "      <th>CasesSgIIA</th>\n",
       "      <th>CasesSgIIB</th>\n",
       "      <th>CasesSgIIIA</th>\n",
       "      <th>CasesSgIIIB</th>\n",
       "      <th>CasesSgIV</th>\n",
       "      <th>mdt_discussion</th>\n",
       "      <th>ActiveRx</th>\n",
       "      <th>Had_surgery</th>\n",
       "      <th>Had_radio</th>\n",
       "      <th>mediansurvival_days</th>\n",
       "    </tr>\n",
       "    <tr>\n",
       "      <th>labels</th>\n",
       "      <th></th>\n",
       "      <th></th>\n",
       "      <th></th>\n",
       "      <th></th>\n",
       "      <th></th>\n",
       "      <th></th>\n",
       "      <th></th>\n",
       "      <th></th>\n",
       "      <th></th>\n",
       "      <th></th>\n",
       "      <th></th>\n",
       "      <th></th>\n",
       "      <th></th>\n",
       "      <th></th>\n",
       "      <th></th>\n",
       "      <th></th>\n",
       "      <th></th>\n",
       "      <th></th>\n",
       "    </tr>\n",
       "  </thead>\n",
       "  <tbody>\n",
       "    <tr>\n",
       "      <th>0</th>\n",
       "      <td>25.969697</td>\n",
       "      <td>54.545455</td>\n",
       "      <td>31.898990</td>\n",
       "      <td>29.494949</td>\n",
       "      <td>9.818182</td>\n",
       "      <td>0.060606</td>\n",
       "      <td>22.040404</td>\n",
       "      <td>12.505051</td>\n",
       "      <td>6.969697</td>\n",
       "      <td>6.383838</td>\n",
       "      <td>19.656566</td>\n",
       "      <td>15.818182</td>\n",
       "      <td>88.585859</td>\n",
       "      <td>156.878788</td>\n",
       "      <td>107.688096</td>\n",
       "      <td>32.851323</td>\n",
       "      <td>53.275044</td>\n",
       "      <td>233.404040</td>\n",
       "    </tr>\n",
       "    <tr>\n",
       "      <th>1</th>\n",
       "      <td>70.000000</td>\n",
       "      <td>116.365385</td>\n",
       "      <td>73.019231</td>\n",
       "      <td>71.519231</td>\n",
       "      <td>22.826923</td>\n",
       "      <td>0.000000</td>\n",
       "      <td>54.634615</td>\n",
       "      <td>29.942308</td>\n",
       "      <td>16.769231</td>\n",
       "      <td>15.615385</td>\n",
       "      <td>48.115385</td>\n",
       "      <td>37.384615</td>\n",
       "      <td>193.826923</td>\n",
       "      <td>363.269231</td>\n",
       "      <td>242.499575</td>\n",
       "      <td>71.372212</td>\n",
       "      <td>123.961783</td>\n",
       "      <td>241.605769</td>\n",
       "    </tr>\n",
       "  </tbody>\n",
       "</table>\n",
       "</div>"
      ],
      "text/plain": [
       "              PS0         PS1        PS2        PS3        PS4       PS5  \\\n",
       "labels                                                                     \n",
       "0       25.969697   54.545455  31.898990  29.494949   9.818182  0.060606   \n",
       "1       70.000000  116.365385  73.019231  71.519231  22.826923  0.000000   \n",
       "\n",
       "        CasesSgIA  CasesSgIB  CasesSgIIA  CasesSgIIB  CasesSgIIIA  \\\n",
       "labels                                                              \n",
       "0       22.040404  12.505051    6.969697    6.383838    19.656566   \n",
       "1       54.634615  29.942308   16.769231   15.615385    48.115385   \n",
       "\n",
       "        CasesSgIIIB   CasesSgIV  mdt_discussion    ActiveRx  Had_surgery  \\\n",
       "labels                                                                     \n",
       "0         15.818182   88.585859      156.878788  107.688096    32.851323   \n",
       "1         37.384615  193.826923      363.269231  242.499575    71.372212   \n",
       "\n",
       "         Had_radio  mediansurvival_days  \n",
       "labels                                   \n",
       "0        53.275044           233.404040  \n",
       "1       123.961783           241.605769  "
      ]
     },
     "execution_count": 96,
     "metadata": {},
     "output_type": "execute_result"
    }
   ],
   "source": [
    "df1.groupby('labels').mean()"
   ]
  },
  {
   "cell_type": "code",
   "execution_count": 97,
   "id": "7c94e909-d403-4198-86e0-122137e4cc03",
   "metadata": {},
   "outputs": [
    {
     "name": "stdout",
     "output_type": "stream",
     "text": [
      "stat=0.072, p=0.381\n",
      "Probably independent\n"
     ]
    }
   ],
   "source": [
    "stat, p = pearsonr(df1['mediansurvival_days'], df1['labels'])\n",
    "print('stat=%.3f, p=%.3f' % (stat, p))\n",
    "if p > 0.05:\n",
    "    print('Probably independent')\n",
    "else:\n",
    "    print('Probably dependent')"
   ]
  },
  {
   "cell_type": "code",
   "execution_count": null,
   "id": "08b436b9-6b8e-407f-aa74-9858faff4a1f",
   "metadata": {},
   "outputs": [],
   "source": []
  },
  {
   "cell_type": "markdown",
   "id": "8ee3ff6e-a536-4ff0-87db-6b30655b7a0e",
   "metadata": {},
   "source": [
    "## dataframe *two>"
   ]
  },
  {
   "cell_type": "code",
   "execution_count": 98,
   "id": "e05863b1-03e8-44aa-ba78-493af58440dc",
   "metadata": {},
   "outputs": [],
   "source": [
    "df2_scaled = scale(df2, axis=0)"
   ]
  },
  {
   "cell_type": "code",
   "execution_count": 99,
   "id": "9b3140fb-f9cc-4829-af28-d2ce5acd6e8c",
   "metadata": {},
   "outputs": [],
   "source": [
    "kmeans2 = KMeans(n_clusters=2, random_state=0).fit(df2_scaled)"
   ]
  },
  {
   "cell_type": "code",
   "execution_count": 100,
   "id": "9724959d-c142-4363-9d6e-606d0ba52101",
   "metadata": {},
   "outputs": [
    {
     "data": {
      "text/plain": [
       "array([0, 1, 1, 0, 1, 0, 0, 0, 0, 0, 0, 1, 1, 1, 0, 0, 0, 1, 0, 0, 1, 0,\n",
       "       1, 0, 0, 0, 0, 0, 0, 0, 0, 1, 0, 0, 1, 1, 0, 0, 0, 0, 0, 0, 1, 0,\n",
       "       1, 0, 0, 1, 0, 0, 0, 1, 1, 1, 1, 1, 0, 0, 0, 0, 0, 0, 1, 0, 1, 0,\n",
       "       0, 0, 0, 1, 1, 0, 1, 1, 0, 0, 0, 0, 0, 0, 0, 0, 0, 0, 1, 1, 1, 0,\n",
       "       1, 0, 0, 0, 0, 0, 0, 1, 1, 0, 1, 0, 0, 0, 1, 1, 1, 1, 0, 0, 0, 0,\n",
       "       1, 1, 0, 1, 1, 0, 1, 0, 0, 1, 0, 0, 0, 0, 1, 0, 0, 1, 0, 1, 0, 0,\n",
       "       0, 1, 0, 0, 1, 1, 0, 1])"
      ]
     },
     "execution_count": 100,
     "metadata": {},
     "output_type": "execute_result"
    }
   ],
   "source": [
    "kmeans2.labels_"
   ]
  },
  {
   "cell_type": "code",
   "execution_count": 101,
   "id": "5416cdea-6ba4-4ced-a31a-bf297ae0236f",
   "metadata": {},
   "outputs": [],
   "source": [
    "df2['labels'] = kmeans2.labels_"
   ]
  },
  {
   "cell_type": "code",
   "execution_count": 102,
   "id": "40726c73-1850-4d84-9b4c-2e3f860d49a1",
   "metadata": {},
   "outputs": [
    {
     "data": {
      "text/html": [
       "<div>\n",
       "<style scoped>\n",
       "    .dataframe tbody tr th:only-of-type {\n",
       "        vertical-align: middle;\n",
       "    }\n",
       "\n",
       "    .dataframe tbody tr th {\n",
       "        vertical-align: top;\n",
       "    }\n",
       "\n",
       "    .dataframe thead th {\n",
       "        text-align: right;\n",
       "    }\n",
       "</style>\n",
       "<table border=\"1\" class=\"dataframe\">\n",
       "  <thead>\n",
       "    <tr style=\"text-align: right;\">\n",
       "      <th></th>\n",
       "      <th>smoker</th>\n",
       "      <th>ex_smoker</th>\n",
       "      <th>declined_to_respond</th>\n",
       "      <th>never_smoked</th>\n",
       "      <th>HadPet_pretreatment</th>\n",
       "      <th>HadRecording</th>\n",
       "      <th>Had_tki</th>\n",
       "      <th>mediansurvival_days</th>\n",
       "    </tr>\n",
       "    <tr>\n",
       "      <th>labels</th>\n",
       "      <th></th>\n",
       "      <th></th>\n",
       "      <th></th>\n",
       "      <th></th>\n",
       "      <th></th>\n",
       "      <th></th>\n",
       "      <th></th>\n",
       "      <th></th>\n",
       "    </tr>\n",
       "  </thead>\n",
       "  <tbody>\n",
       "    <tr>\n",
       "      <th>0</th>\n",
       "      <td>29.355556</td>\n",
       "      <td>46.744444</td>\n",
       "      <td>122.133333</td>\n",
       "      <td>5.077778</td>\n",
       "      <td>59.800153</td>\n",
       "      <td>13.022026</td>\n",
       "      <td>4.255453</td>\n",
       "      <td>245.316667</td>\n",
       "    </tr>\n",
       "    <tr>\n",
       "      <th>1</th>\n",
       "      <td>93.480000</td>\n",
       "      <td>144.340000</td>\n",
       "      <td>99.760000</td>\n",
       "      <td>16.980000</td>\n",
       "      <td>63.140402</td>\n",
       "      <td>10.900046</td>\n",
       "      <td>3.679534</td>\n",
       "      <td>223.200000</td>\n",
       "    </tr>\n",
       "  </tbody>\n",
       "</table>\n",
       "</div>"
      ],
      "text/plain": [
       "           smoker   ex_smoker  declined_to_respond  never_smoked  \\\n",
       "labels                                                             \n",
       "0       29.355556   46.744444           122.133333      5.077778   \n",
       "1       93.480000  144.340000            99.760000     16.980000   \n",
       "\n",
       "        HadPet_pretreatment  HadRecording   Had_tki  mediansurvival_days  \n",
       "labels                                                                    \n",
       "0                 59.800153     13.022026  4.255453           245.316667  \n",
       "1                 63.140402     10.900046  3.679534           223.200000  "
      ]
     },
     "execution_count": 102,
     "metadata": {},
     "output_type": "execute_result"
    }
   ],
   "source": [
    "df2.groupby('labels').mean()"
   ]
  },
  {
   "cell_type": "code",
   "execution_count": 103,
   "id": "a57312a0-2c39-42ea-a96c-2d15a2e29d43",
   "metadata": {},
   "outputs": [
    {
     "name": "stdout",
     "output_type": "stream",
     "text": [
      "stat=-0.192, p=0.023\n",
      "Probably dependent\n"
     ]
    }
   ],
   "source": [
    "stat, p = pearsonr(df2['mediansurvival_days'], df2['labels'])\n",
    "print('stat=%.3f, p=%.3f' % (stat, p))\n",
    "if p > 0.05:\n",
    "    print('Probably independent')\n",
    "else:\n",
    "    print('Probably dependent')"
   ]
  },
  {
   "cell_type": "code",
   "execution_count": null,
   "id": "a06a3fdb-8b6b-4057-984a-1008121e3d2d",
   "metadata": {},
   "outputs": [],
   "source": []
  },
  {
   "cell_type": "code",
   "execution_count": null,
   "id": "7860a8df-25c4-4c11-8baa-c192b8022a86",
   "metadata": {},
   "outputs": [],
   "source": []
  }
 ],
 "metadata": {
  "kernelspec": {
   "display_name": "Python 3",
   "language": "python",
   "name": "python3"
  },
  "language_info": {
   "codemirror_mode": {
    "name": "ipython",
    "version": 3
   },
   "file_extension": ".py",
   "mimetype": "text/x-python",
   "name": "python",
   "nbconvert_exporter": "python",
   "pygments_lexer": "ipython3",
   "version": "3.8.8"
  }
 },
 "nbformat": 4,
 "nbformat_minor": 5
}
